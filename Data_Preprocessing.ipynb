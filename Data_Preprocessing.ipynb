{
  "nbformat": 4,
  "nbformat_minor": 0,
  "metadata": {
    "colab": {
      "name": "Data_Preprocessing.ipynb",
      "provenance": [],
      "collapsed_sections": [],
      "toc_visible": true
    },
    "kernelspec": {
      "name": "python3",
      "display_name": "Python 3"
    },
    "accelerator": "GPU"
  },
  "cells": [
    {
      "cell_type": "markdown",
      "metadata": {
        "id": "x6toKIHcOkbB",
        "colab_type": "text"
      },
      "source": [
        "# Named Entity Recognition - Data Preprocessing\n",
        "\n",
        "Brief Introduction : \n",
        "- https://en.wikipedia.org/wiki/Named-entity_recognition\n",
        "- https://towardsdatascience.com/contextual-embeddings-for-nlp-sequence-labeling-9a92ba5a6cf0\n",
        "- https://cs230.stanford.edu/blog/namedentity/\n"
      ]
    },
    {
      "cell_type": "markdown",
      "metadata": {
        "id": "qMrhMKPiRRW0",
        "colab_type": "text"
      },
      "source": [
        "### 1) Importing the libraries"
      ]
    },
    {
      "cell_type": "code",
      "metadata": {
        "id": "nc9xq96ZOdoZ",
        "colab_type": "code",
        "colab": {}
      },
      "source": [
        "import numpy as np\n",
        "import pandas as pd\n",
        "import matplotlib.pyplot as plt\n",
        "import torch\n",
        "import torch.nn as nn\n",
        "import torch.functional as F\n",
        "import nltk\n",
        "import spacy\n",
        "import math"
      ],
      "execution_count": 0,
      "outputs": []
    },
    {
      "cell_type": "markdown",
      "metadata": {
        "id": "7TQizsawRpKP",
        "colab_type": "text"
      },
      "source": [
        "### 2) Reading input file"
      ]
    },
    {
      "cell_type": "code",
      "metadata": {
        "id": "JLkcBab7fbZf",
        "colab_type": "code",
        "outputId": "18de27f0-2c21-41ca-fced-b93999f27aed",
        "colab": {
          "base_uri": "https://localhost:8080/",
          "height": 54
        }
      },
      "source": [
        "from google.colab import drive\n",
        "drive.mount('/content/drive')"
      ],
      "execution_count": 2,
      "outputs": [
        {
          "output_type": "stream",
          "text": [
            "Drive already mounted at /content/drive; to attempt to forcibly remount, call drive.mount(\"/content/drive\", force_remount=True).\n"
          ],
          "name": "stdout"
        }
      ]
    },
    {
      "cell_type": "code",
      "metadata": {
        "id": "GdecqOCkRmRy",
        "colab_type": "code",
        "colab": {}
      },
      "source": [
        "# ner_dataset does not have utf-8 encoding,running this line will give errors\n",
        "# uncomment it to see errors\n",
        "# df = pd.read_csv('drive/My Drive/Datasets/ner_dataset.csv',encoding='utf-8') \n"
      ],
      "execution_count": 0,
      "outputs": []
    },
    {
      "cell_type": "markdown",
      "metadata": {
        "id": "RCM9lCUUUh_J",
        "colab_type": "text"
      },
      "source": [
        "Solving the above error : https://stackoverflow.com/questions/21504319/python-3-csv-file-giving-unicodedecodeerror-utf-8-codec-cant-decode-byte-err\n",
        "\n",
        "- Here, it can be noted that our file has an encoding of `windows-1252` . So, we will use this only.\n",
        "- Source where I found about this file's encoding : https://github.com/cs230-stanford/cs230-code-examples/blob/master/pytorch/nlp/build_kaggle_dataset.py"
      ]
    },
    {
      "cell_type": "code",
      "metadata": {
        "id": "hmqgfTfgTBiI",
        "colab_type": "code",
        "colab": {}
      },
      "source": [
        "df = pd.read_csv('drive/My Drive/Pytorch_DataSet/Named Entity Recognition/ner_dataset.csv',encoding='windows-1252')"
      ],
      "execution_count": 0,
      "outputs": []
    },
    {
      "cell_type": "code",
      "metadata": {
        "id": "vxA7rLSzUgBD",
        "colab_type": "code",
        "outputId": "475672b5-1112-4d04-e6f8-8abf78524b99",
        "colab": {
          "base_uri": "https://localhost:8080/",
          "height": 204
        }
      },
      "source": [
        "df.head()"
      ],
      "execution_count": 5,
      "outputs": [
        {
          "output_type": "execute_result",
          "data": {
            "text/html": [
              "<div>\n",
              "<style scoped>\n",
              "    .dataframe tbody tr th:only-of-type {\n",
              "        vertical-align: middle;\n",
              "    }\n",
              "\n",
              "    .dataframe tbody tr th {\n",
              "        vertical-align: top;\n",
              "    }\n",
              "\n",
              "    .dataframe thead th {\n",
              "        text-align: right;\n",
              "    }\n",
              "</style>\n",
              "<table border=\"1\" class=\"dataframe\">\n",
              "  <thead>\n",
              "    <tr style=\"text-align: right;\">\n",
              "      <th></th>\n",
              "      <th>Sentence #</th>\n",
              "      <th>Word</th>\n",
              "      <th>POS</th>\n",
              "      <th>Tag</th>\n",
              "    </tr>\n",
              "  </thead>\n",
              "  <tbody>\n",
              "    <tr>\n",
              "      <th>0</th>\n",
              "      <td>Sentence: 1</td>\n",
              "      <td>Thousands</td>\n",
              "      <td>NNS</td>\n",
              "      <td>O</td>\n",
              "    </tr>\n",
              "    <tr>\n",
              "      <th>1</th>\n",
              "      <td>NaN</td>\n",
              "      <td>of</td>\n",
              "      <td>IN</td>\n",
              "      <td>O</td>\n",
              "    </tr>\n",
              "    <tr>\n",
              "      <th>2</th>\n",
              "      <td>NaN</td>\n",
              "      <td>demonstrators</td>\n",
              "      <td>NNS</td>\n",
              "      <td>O</td>\n",
              "    </tr>\n",
              "    <tr>\n",
              "      <th>3</th>\n",
              "      <td>NaN</td>\n",
              "      <td>have</td>\n",
              "      <td>VBP</td>\n",
              "      <td>O</td>\n",
              "    </tr>\n",
              "    <tr>\n",
              "      <th>4</th>\n",
              "      <td>NaN</td>\n",
              "      <td>marched</td>\n",
              "      <td>VBN</td>\n",
              "      <td>O</td>\n",
              "    </tr>\n",
              "  </tbody>\n",
              "</table>\n",
              "</div>"
            ],
            "text/plain": [
              "    Sentence #           Word  POS Tag\n",
              "0  Sentence: 1      Thousands  NNS   O\n",
              "1          NaN             of   IN   O\n",
              "2          NaN  demonstrators  NNS   O\n",
              "3          NaN           have  VBP   O\n",
              "4          NaN        marched  VBN   O"
            ]
          },
          "metadata": {
            "tags": []
          },
          "execution_count": 5
        }
      ]
    },
    {
      "cell_type": "code",
      "metadata": {
        "id": "k75-kqCG8m2u",
        "colab_type": "code",
        "outputId": "80d2c3ac-7286-4348-8044-c85e76ab102b",
        "colab": {
          "base_uri": "https://localhost:8080/",
          "height": 390
        }
      },
      "source": [
        "#printing rows from 60 to 120\n",
        "df.loc[90:100]"
      ],
      "execution_count": 6,
      "outputs": [
        {
          "output_type": "execute_result",
          "data": {
            "text/html": [
              "<div>\n",
              "<style scoped>\n",
              "    .dataframe tbody tr th:only-of-type {\n",
              "        vertical-align: middle;\n",
              "    }\n",
              "\n",
              "    .dataframe tbody tr th {\n",
              "        vertical-align: top;\n",
              "    }\n",
              "\n",
              "    .dataframe thead th {\n",
              "        text-align: right;\n",
              "    }\n",
              "</style>\n",
              "<table border=\"1\" class=\"dataframe\">\n",
              "  <thead>\n",
              "    <tr style=\"text-align: right;\">\n",
              "      <th></th>\n",
              "      <th>Sentence #</th>\n",
              "      <th>Word</th>\n",
              "      <th>POS</th>\n",
              "      <th>Tag</th>\n",
              "    </tr>\n",
              "  </thead>\n",
              "  <tbody>\n",
              "    <tr>\n",
              "      <th>90</th>\n",
              "      <td>NaN</td>\n",
              "      <td>the</td>\n",
              "      <td>DT</td>\n",
              "      <td>O</td>\n",
              "    </tr>\n",
              "    <tr>\n",
              "      <th>91</th>\n",
              "      <td>NaN</td>\n",
              "      <td>annual</td>\n",
              "      <td>JJ</td>\n",
              "      <td>O</td>\n",
              "    </tr>\n",
              "    <tr>\n",
              "      <th>92</th>\n",
              "      <td>NaN</td>\n",
              "      <td>conference</td>\n",
              "      <td>NN</td>\n",
              "      <td>O</td>\n",
              "    </tr>\n",
              "    <tr>\n",
              "      <th>93</th>\n",
              "      <td>NaN</td>\n",
              "      <td>of</td>\n",
              "      <td>IN</td>\n",
              "      <td>O</td>\n",
              "    </tr>\n",
              "    <tr>\n",
              "      <th>94</th>\n",
              "      <td>NaN</td>\n",
              "      <td>Britain</td>\n",
              "      <td>NNP</td>\n",
              "      <td>B-geo</td>\n",
              "    </tr>\n",
              "    <tr>\n",
              "      <th>95</th>\n",
              "      <td>NaN</td>\n",
              "      <td>'s</td>\n",
              "      <td>POS</td>\n",
              "      <td>O</td>\n",
              "    </tr>\n",
              "    <tr>\n",
              "      <th>96</th>\n",
              "      <td>NaN</td>\n",
              "      <td>ruling</td>\n",
              "      <td>VBG</td>\n",
              "      <td>O</td>\n",
              "    </tr>\n",
              "    <tr>\n",
              "      <th>97</th>\n",
              "      <td>NaN</td>\n",
              "      <td>Labor</td>\n",
              "      <td>NNP</td>\n",
              "      <td>B-org</td>\n",
              "    </tr>\n",
              "    <tr>\n",
              "      <th>98</th>\n",
              "      <td>NaN</td>\n",
              "      <td>Party</td>\n",
              "      <td>NNP</td>\n",
              "      <td>I-org</td>\n",
              "    </tr>\n",
              "    <tr>\n",
              "      <th>99</th>\n",
              "      <td>NaN</td>\n",
              "      <td>in</td>\n",
              "      <td>IN</td>\n",
              "      <td>O</td>\n",
              "    </tr>\n",
              "    <tr>\n",
              "      <th>100</th>\n",
              "      <td>NaN</td>\n",
              "      <td>the</td>\n",
              "      <td>DT</td>\n",
              "      <td>O</td>\n",
              "    </tr>\n",
              "  </tbody>\n",
              "</table>\n",
              "</div>"
            ],
            "text/plain": [
              "    Sentence #        Word  POS    Tag\n",
              "90         NaN         the   DT      O\n",
              "91         NaN      annual   JJ      O\n",
              "92         NaN  conference   NN      O\n",
              "93         NaN          of   IN      O\n",
              "94         NaN     Britain  NNP  B-geo\n",
              "95         NaN          's  POS      O\n",
              "96         NaN      ruling  VBG      O\n",
              "97         NaN       Labor  NNP  B-org\n",
              "98         NaN       Party  NNP  I-org\n",
              "99         NaN          in   IN      O\n",
              "100        NaN         the   DT      O"
            ]
          },
          "metadata": {
            "tags": []
          },
          "execution_count": 6
        }
      ]
    },
    {
      "cell_type": "code",
      "metadata": {
        "id": "KvrVIJw3Izjp",
        "colab_type": "code",
        "outputId": "8732f6a4-16f5-493e-b4ff-0c7d9bab0c8b",
        "colab": {
          "base_uri": "https://localhost:8080/",
          "height": 34
        }
      },
      "source": [
        "len(df)"
      ],
      "execution_count": 7,
      "outputs": [
        {
          "output_type": "execute_result",
          "data": {
            "text/plain": [
              "1048575"
            ]
          },
          "metadata": {
            "tags": []
          },
          "execution_count": 7
        }
      ]
    },
    {
      "cell_type": "code",
      "metadata": {
        "id": "GdWYvcGNI3PY",
        "colab_type": "code",
        "outputId": "e1da5cbb-b4e6-47d1-b323-18324b7a1af3",
        "colab": {
          "base_uri": "https://localhost:8080/",
          "height": 173
        }
      },
      "source": [
        "df.describe()"
      ],
      "execution_count": 8,
      "outputs": [
        {
          "output_type": "execute_result",
          "data": {
            "text/html": [
              "<div>\n",
              "<style scoped>\n",
              "    .dataframe tbody tr th:only-of-type {\n",
              "        vertical-align: middle;\n",
              "    }\n",
              "\n",
              "    .dataframe tbody tr th {\n",
              "        vertical-align: top;\n",
              "    }\n",
              "\n",
              "    .dataframe thead th {\n",
              "        text-align: right;\n",
              "    }\n",
              "</style>\n",
              "<table border=\"1\" class=\"dataframe\">\n",
              "  <thead>\n",
              "    <tr style=\"text-align: right;\">\n",
              "      <th></th>\n",
              "      <th>Sentence #</th>\n",
              "      <th>Word</th>\n",
              "      <th>POS</th>\n",
              "      <th>Tag</th>\n",
              "    </tr>\n",
              "  </thead>\n",
              "  <tbody>\n",
              "    <tr>\n",
              "      <th>count</th>\n",
              "      <td>47959</td>\n",
              "      <td>1048575</td>\n",
              "      <td>1048575</td>\n",
              "      <td>1048575</td>\n",
              "    </tr>\n",
              "    <tr>\n",
              "      <th>unique</th>\n",
              "      <td>47959</td>\n",
              "      <td>35178</td>\n",
              "      <td>42</td>\n",
              "      <td>17</td>\n",
              "    </tr>\n",
              "    <tr>\n",
              "      <th>top</th>\n",
              "      <td>Sentence: 27660</td>\n",
              "      <td>the</td>\n",
              "      <td>NN</td>\n",
              "      <td>O</td>\n",
              "    </tr>\n",
              "    <tr>\n",
              "      <th>freq</th>\n",
              "      <td>1</td>\n",
              "      <td>52573</td>\n",
              "      <td>145807</td>\n",
              "      <td>887908</td>\n",
              "    </tr>\n",
              "  </tbody>\n",
              "</table>\n",
              "</div>"
            ],
            "text/plain": [
              "             Sentence #     Word      POS      Tag\n",
              "count             47959  1048575  1048575  1048575\n",
              "unique            47959    35178       42       17\n",
              "top     Sentence: 27660      the       NN        O\n",
              "freq                  1    52573   145807   887908"
            ]
          },
          "metadata": {
            "tags": []
          },
          "execution_count": 8
        }
      ]
    },
    {
      "cell_type": "code",
      "metadata": {
        "id": "KilGCtF9UEGv",
        "colab_type": "code",
        "outputId": "46b69f70-b3d1-4960-9a6a-69b1d0829fa6",
        "colab": {
          "base_uri": "https://localhost:8080/",
          "height": 204
        }
      },
      "source": [
        "df.info()"
      ],
      "execution_count": 9,
      "outputs": [
        {
          "output_type": "stream",
          "text": [
            "<class 'pandas.core.frame.DataFrame'>\n",
            "RangeIndex: 1048575 entries, 0 to 1048574\n",
            "Data columns (total 4 columns):\n",
            " #   Column      Non-Null Count    Dtype \n",
            "---  ------      --------------    ----- \n",
            " 0   Sentence #  47959 non-null    object\n",
            " 1   Word        1048575 non-null  object\n",
            " 2   POS         1048575 non-null  object\n",
            " 3   Tag         1048575 non-null  object\n",
            "dtypes: object(4)\n",
            "memory usage: 32.0+ MB\n"
          ],
          "name": "stdout"
        }
      ]
    },
    {
      "cell_type": "markdown",
      "metadata": {
        "id": "unja1eRHaFFv",
        "colab_type": "text"
      },
      "source": [
        "## 3) Forming sentences and labels"
      ]
    },
    {
      "cell_type": "code",
      "metadata": {
        "id": "iQbQH_UZVESW",
        "colab_type": "code",
        "colab": {}
      },
      "source": [
        "a = df['Word'].tolist()\n",
        "sentences = ' '.join(a)"
      ],
      "execution_count": 0,
      "outputs": []
    },
    {
      "cell_type": "code",
      "metadata": {
        "id": "lWpUUJKrFV1b",
        "colab_type": "code",
        "colab": {}
      },
      "source": [
        "#sentences"
      ],
      "execution_count": 0,
      "outputs": []
    },
    {
      "cell_type": "markdown",
      "metadata": {
        "id": "SITgrZeOJDVe",
        "colab_type": "text"
      },
      "source": [
        "On seeing this dataset, we have to convert it into 2 text files, one contains sentences and other contains labels.\n",
        "\n",
        "Example :\n",
        "\n",
        "      sentences.txt\n",
        "\n",
        "      John lives in New York\n",
        "      Where is John ?\n",
        "\n",
        "      labels.txt\n",
        "      \n",
        "      B-PER O O B-LOC I-LOC\n",
        "      O O B-PER O"
      ]
    },
    {
      "cell_type": "markdown",
      "metadata": {
        "id": "IGEnRrGFJmik",
        "colab_type": "text"
      },
      "source": [
        "On having a closer look at dataset, we know that first columns corresponds to sentence numbers and we can use them as if we work on string `sentences` that we have to consider every punctuation for sentence ending if we write our own code. But it can be done using nltk or spacy sentences option,but then we will have another problem as tagging these sentences.\n"
      ]
    },
    {
      "cell_type": "code",
      "metadata": {
        "id": "O79q-GJLIs-G",
        "colab_type": "code",
        "outputId": "2a9dc0e3-0b0a-4473-f477-e29fd847fa57",
        "colab": {
          "base_uri": "https://localhost:8080/",
          "height": 34
        }
      },
      "source": [
        "df.columns"
      ],
      "execution_count": 12,
      "outputs": [
        {
          "output_type": "execute_result",
          "data": {
            "text/plain": [
              "Index(['Sentence #', 'Word', 'POS', 'Tag'], dtype='object')"
            ]
          },
          "metadata": {
            "tags": []
          },
          "execution_count": 12
        }
      ]
    },
    {
      "cell_type": "code",
      "metadata": {
        "id": "aIabGuF9KxlM",
        "colab_type": "code",
        "colab": {}
      },
      "source": [
        "#sentences"
      ],
      "execution_count": 0,
      "outputs": []
    },
    {
      "cell_type": "code",
      "metadata": {
        "id": "GgFZNzViLWOw",
        "colab_type": "code",
        "colab": {}
      },
      "source": [
        "tag = ' '.join(df['Tag'].tolist())\n",
        "#tag"
      ],
      "execution_count": 0,
      "outputs": []
    },
    {
      "cell_type": "code",
      "metadata": {
        "id": "FmUDAB7dLm5X",
        "colab_type": "code",
        "colab": {}
      },
      "source": [
        "nlp = spacy.load('en')"
      ],
      "execution_count": 0,
      "outputs": []
    },
    {
      "cell_type": "code",
      "metadata": {
        "id": "GgiyW60wylYb",
        "colab_type": "code",
        "colab": {}
      },
      "source": [
        "import warnings\n",
        "warnings.filterwarnings('ignore')"
      ],
      "execution_count": 0,
      "outputs": []
    },
    {
      "cell_type": "markdown",
      "metadata": {
        "id": "BfwSniKazZn9",
        "colab_type": "text"
      },
      "source": [
        "\n",
        "Below line will show text limit error : \n",
        "\n",
        "      ValueError: [E088] Text of length 6053799 exceeds maximum of 1000000. \n",
        "      The v2.x parser and NER models require roughly 1GB of temporary memory per 100,000 characters in the input.\n",
        "      This means long texts may cause memory allocation errors. \n",
        "      If you're not using the parser or NER, it's probably safe to increase the `nlp.max_length` limit.\n",
        "      The limit is in number of characters, so you can check whether your inputs are too long by checking `len(text)`.\n",
        "\n",
        "Uncomment it to see the error.\n"
      ]
    },
    {
      "cell_type": "code",
      "metadata": {
        "id": "yR_k5_tkNfUw",
        "colab_type": "code",
        "colab": {}
      },
      "source": [
        "#doc = nlp(sentences)"
      ],
      "execution_count": 0,
      "outputs": []
    },
    {
      "cell_type": "markdown",
      "metadata": {
        "id": "R7LKWsLEOkrz",
        "colab_type": "text"
      },
      "source": [
        "- Here we can see that using sentences string wont help us and it can, but then we have to split the sentences that can have errors.\n",
        "- Let's try and think on working on dataframe only."
      ]
    },
    {
      "cell_type": "markdown",
      "metadata": {
        "id": "4sgI5PuBS1MA",
        "colab_type": "text"
      },
      "source": [
        "Solution of above error: https://stackoverflow.com/questions/57231616/valueerror-e088-text-of-length-1027203-exceeds-maximum-of-1000000-spacy"
      ]
    },
    {
      "cell_type": "code",
      "metadata": {
        "id": "xr56ND6sSt5E",
        "colab_type": "code",
        "colab": {}
      },
      "source": [
        "#nlp.max_length = 6053799"
      ],
      "execution_count": 0,
      "outputs": []
    },
    {
      "cell_type": "code",
      "metadata": {
        "id": "3mYD7KiYSz56",
        "colab_type": "code",
        "colab": {}
      },
      "source": [
        "#doc = nlp(sentences)"
      ],
      "execution_count": 0,
      "outputs": []
    },
    {
      "cell_type": "markdown",
      "metadata": {
        "id": "U5_odqXVTa7M",
        "colab_type": "text"
      },
      "source": [
        "- It will take a lot of time and your ram will crash automatically.\n",
        "\n",
        "- Lets work on dataframe only.\n"
      ]
    },
    {
      "cell_type": "markdown",
      "metadata": {
        "id": "3ie2c_scEAk-",
        "colab_type": "text"
      },
      "source": [
        "Before working on dataset lists, \n",
        "- Lets learn about lists append() and += function and \n",
        "- Difference between list() and [] which is used to initialize a list."
      ]
    },
    {
      "cell_type": "code",
      "metadata": {
        "id": "SEvC7mwyD_PN",
        "colab_type": "code",
        "outputId": "bdf227e2-f9fb-4081-8dd1-4eefb5117c22",
        "colab": {
          "base_uri": "https://localhost:8080/",
          "height": 68
        }
      },
      "source": [
        "list1 = [].append([2]) # This will return an empty list only, as append() function return None as function return Values\n",
        "print(list1)\n",
        "\n",
        "list2 = []     # correct way\n",
        "list2.append([1,2])\n",
        "list2.append([3,4])\n",
        "print(list2)  \n",
        "\n",
        "list3 = [] + [1,2,3] + [2,3,4]  # this add function will always create only one list.\n",
        "print(list3)\n",
        "\n",
        "\n",
        "# list() is a function call, and [] a literal: \n",
        "# Use the second form. It's more Pythonic, and it's probably faster \n",
        "# (since it doesn't involve loading and calling a separate funciton)."
      ],
      "execution_count": 25,
      "outputs": [
        {
          "output_type": "stream",
          "text": [
            "None\n",
            "[[1, 2], [3, 4]]\n",
            "[1, 2, 3, 2, 3, 4]\n"
          ],
          "name": "stdout"
        }
      ]
    },
    {
      "cell_type": "code",
      "metadata": {
        "id": "6slk7Yq5NjxN",
        "colab_type": "code",
        "colab": {}
      },
      "source": [
        "sents = []\n",
        "tags = []\n",
        "s = []\n",
        "t = []\n",
        "first = True  \n",
        "# This is used because for initial sentence empty list is added which is creating problems.\n",
        "#Therefore to remove that first addition of empty list we are checking for first sentence and not adding it.\n",
        "\n",
        "for index,row in df.iterrows():\n",
        "  sent = row['Sentence #']\n",
        "  word = row['Word']\n",
        "  tag = row['Tag']\n",
        "   \n",
        "  if type(sent) == type('abc'):\n",
        "    if first != True:\n",
        "      sents.append(s.copy())  # https://stackoverflow.com/questions/2612802/how-to-clone-or-copy-a-list\n",
        "      tags.append(t.copy())\n",
        "      #print(f'{type(sent)} {type(s)} {type(t)} sent : {s}    and  tag : {t}')\n",
        "      s.clear()\n",
        "      t.clear()\n",
        "    else:\n",
        "      first = False  \n",
        "\n",
        "  s.append(word)\n",
        "  t.append(tag)\n",
        "\n",
        "sents.append(s.copy())\n",
        "tags.append(t.copy())\n",
        "s.clear()\n",
        "t.clear()\n",
        "\n"
      ],
      "execution_count": 0,
      "outputs": []
    },
    {
      "cell_type": "code",
      "metadata": {
        "id": "2vXglBy63Uxs",
        "colab_type": "code",
        "outputId": "56069267-21da-4194-90d5-96927a4eb621",
        "colab": {
          "base_uri": "https://localhost:8080/",
          "height": 34
        }
      },
      "source": [
        "print(len(sents), len(tags))"
      ],
      "execution_count": 27,
      "outputs": [
        {
          "output_type": "stream",
          "text": [
            "47959 47959\n"
          ],
          "name": "stdout"
        }
      ]
    },
    {
      "cell_type": "code",
      "metadata": {
        "id": "ug9K6sQTQ636",
        "colab_type": "code",
        "outputId": "c93ae4a0-9c1a-4efc-c0a9-e5de5bd42a23",
        "colab": {
          "base_uri": "https://localhost:8080/",
          "height": 527
        }
      },
      "source": [
        "sents[1]"
      ],
      "execution_count": 28,
      "outputs": [
        {
          "output_type": "execute_result",
          "data": {
            "text/plain": [
              "['Families',\n",
              " 'of',\n",
              " 'soldiers',\n",
              " 'killed',\n",
              " 'in',\n",
              " 'the',\n",
              " 'conflict',\n",
              " 'joined',\n",
              " 'the',\n",
              " 'protesters',\n",
              " 'who',\n",
              " 'carried',\n",
              " 'banners',\n",
              " 'with',\n",
              " 'such',\n",
              " 'slogans',\n",
              " 'as',\n",
              " '\"',\n",
              " 'Bush',\n",
              " 'Number',\n",
              " 'One',\n",
              " 'Terrorist',\n",
              " '\"',\n",
              " 'and',\n",
              " '\"',\n",
              " 'Stop',\n",
              " 'the',\n",
              " 'Bombings',\n",
              " '.',\n",
              " '\"']"
            ]
          },
          "metadata": {
            "tags": []
          },
          "execution_count": 28
        }
      ]
    },
    {
      "cell_type": "code",
      "metadata": {
        "id": "OxNJ0PnOX5w2",
        "colab_type": "code",
        "outputId": "d2b5f003-8588-4d6a-ca93-fc84cfdd2035",
        "colab": {
          "base_uri": "https://localhost:8080/",
          "height": 425
        }
      },
      "source": [
        "tags[0]"
      ],
      "execution_count": 29,
      "outputs": [
        {
          "output_type": "execute_result",
          "data": {
            "text/plain": [
              "['O',\n",
              " 'O',\n",
              " 'O',\n",
              " 'O',\n",
              " 'O',\n",
              " 'O',\n",
              " 'B-geo',\n",
              " 'O',\n",
              " 'O',\n",
              " 'O',\n",
              " 'O',\n",
              " 'O',\n",
              " 'B-geo',\n",
              " 'O',\n",
              " 'O',\n",
              " 'O',\n",
              " 'O',\n",
              " 'O',\n",
              " 'B-gpe',\n",
              " 'O',\n",
              " 'O',\n",
              " 'O',\n",
              " 'O',\n",
              " 'O']"
            ]
          },
          "metadata": {
            "tags": []
          },
          "execution_count": 29
        }
      ]
    },
    {
      "cell_type": "markdown",
      "metadata": {
        "id": "tb7NBKI0aR4_",
        "colab_type": "text"
      },
      "source": [
        "## 4) Making sentences.txt and labels.txt"
      ]
    },
    {
      "cell_type": "code",
      "metadata": {
        "id": "p6GrBcjwD656",
        "colab_type": "code",
        "outputId": "6b845b5e-ef77-447d-81c9-4090cdcd727b",
        "colab": {
          "base_uri": "https://localhost:8080/",
          "height": 54
        }
      },
      "source": [
        "# Sample for printing\n",
        "\n",
        "for sent in sents:\n",
        "  a = \" \".join(sent)\n",
        "  print(a)\n",
        "  break"
      ],
      "execution_count": 30,
      "outputs": [
        {
          "output_type": "stream",
          "text": [
            "Thousands of demonstrators have marched through London to protest the war in Iraq and demand the withdrawal of British troops from that country .\n"
          ],
          "name": "stdout"
        }
      ]
    },
    {
      "cell_type": "code",
      "metadata": {
        "id": "YHaHCN6i3b8d",
        "colab_type": "code",
        "colab": {}
      },
      "source": [
        "# Writing sents to sentence.txt\n",
        "\n",
        "with open('sentences.txt','w') as f:\n",
        "  for sent in sents:\n",
        "    line = \" \".join(sent)\n",
        "    f.write(line + '\\n')"
      ],
      "execution_count": 0,
      "outputs": []
    },
    {
      "cell_type": "code",
      "metadata": {
        "id": "lLw1bfMJFUpa",
        "colab_type": "code",
        "outputId": "abf25453-704a-4087-e693-0f449d05d402",
        "colab": {
          "base_uri": "https://localhost:8080/",
          "height": 34
        }
      },
      "source": [
        "# Sample for printing\n",
        "\n",
        "for tag in tags:\n",
        "  a = \" \".join(tag)\n",
        "  print(a)\n",
        "  break"
      ],
      "execution_count": 31,
      "outputs": [
        {
          "output_type": "stream",
          "text": [
            "O O O O O O B-geo O O O O O B-geo O O O O O B-gpe O O O O O\n"
          ],
          "name": "stdout"
        }
      ]
    },
    {
      "cell_type": "code",
      "metadata": {
        "id": "N3BRmJ4wEaQm",
        "colab_type": "code",
        "colab": {}
      },
      "source": [
        "# Writing tags to labels.txt\n",
        "\n",
        "with open('labels.txt','w') as f:\n",
        "  for tag in tags:\n",
        "    line = \" \".join(tag)\n",
        "    f.write(line + '\\n')"
      ],
      "execution_count": 0,
      "outputs": []
    },
    {
      "cell_type": "markdown",
      "metadata": {
        "id": "ou1LGox0Vu6C",
        "colab_type": "text"
      },
      "source": [
        "Now, we have created 3 small files(train,val and test) from sentences and labels and will be working on them only, as working on small files is fast and we can correct errors(if any) easily without much time wastage."
      ]
    },
    {
      "cell_type": "markdown",
      "metadata": {
        "id": "wmNlkM2oaZI3",
        "colab_type": "text"
      },
      "source": [
        "## 5) Creating dictionary of words and labels"
      ]
    },
    {
      "cell_type": "markdown",
      "metadata": {
        "id": "eN_heeF8WGml",
        "colab_type": "text"
      },
      "source": [
        "Let's first create dictionary of words from sentences and labels in train,test and val file."
      ]
    },
    {
      "cell_type": "code",
      "metadata": {
        "id": "QbBJarUyFk6D",
        "colab_type": "code",
        "colab": {}
      },
      "source": [
        "# Lets create a function: \n",
        "\n",
        "def update_vocab(file_path,vocab):\n",
        "\n",
        "  with open(file_path,'r') as f:\n",
        "\n",
        "    for i,line in enumerate(f):\n",
        "      vocab.update(line.strip().split(' '))\n",
        "\n",
        "    return i+1  \n"
      ],
      "execution_count": 0,
      "outputs": []
    },
    {
      "cell_type": "code",
      "metadata": {
        "id": "5_AXsaJCcjsf",
        "colab_type": "code",
        "colab": {}
      },
      "source": [
        "import os\n",
        "from collections import Counter # https://www.journaldev.com/20806/python-counter-python-collections-counter"
      ],
      "execution_count": 0,
      "outputs": []
    },
    {
      "cell_type": "markdown",
      "metadata": {
        "id": "_j_m88OHfT6M",
        "colab_type": "text"
      },
      "source": [
        "### 5.1) Creating `Words` Vocab"
      ]
    },
    {
      "cell_type": "code",
      "metadata": {
        "id": "cg-9w89PcJBV",
        "colab_type": "code",
        "colab": {
          "base_uri": "https://localhost:8080/",
          "height": 68
        },
        "outputId": "af8f2632-6d2d-4f17-c8e6-0019b7ac5df3"
      },
      "source": [
        "print(\"Words Vocab Building starts :-D \")\n",
        "\n",
        "words = Counter()  # It is basically a dictionary\n",
        "\n",
        "path = 'drive/My Drive/Pytorch_DataSet/Named Entity Recognition/small/'\n",
        "\n",
        "train_size = update_vocab(os.path.join(path, 'train/sentences.txt'), words)\n",
        "val_size = update_vocab(os.path.join(path, 'val/sentences.txt'), words)\n",
        "test_size = update_vocab(os.path.join(path, 'test/sentences.txt'), words)\n",
        "\n",
        "print(train_size, val_size, test_size)\n",
        "#print(words)\n",
        "\n",
        "print(\"Words Vocab Building successful!!!\")"
      ],
      "execution_count": 34,
      "outputs": [
        {
          "output_type": "stream",
          "text": [
            "Words Vocab Building starts :-D \n",
            "10 10 10\n",
            "Words Vocab Building successful!!!\n"
          ],
          "name": "stdout"
        }
      ]
    },
    {
      "cell_type": "markdown",
      "metadata": {
        "id": "12d52hcUfZFx",
        "colab_type": "text"
      },
      "source": [
        "### 5.2) Creating `Tags` Vocab"
      ]
    },
    {
      "cell_type": "code",
      "metadata": {
        "id": "ed4G1GhsdO1g",
        "colab_type": "code",
        "colab": {
          "base_uri": "https://localhost:8080/",
          "height": 68
        },
        "outputId": "6f9f26ba-d90c-4ea5-8185-547fb3cb714b"
      },
      "source": [
        "print(\"Tags Vocab Building starts :-D \")\n",
        "\n",
        "tags = Counter()  # It is basically a dictionary\n",
        "\n",
        "path = 'drive/My Drive/Pytorch_DataSet/Named Entity Recognition/small/'\n",
        "\n",
        "train_size = update_vocab(os.path.join(path, 'train/labels.txt'), tags)\n",
        "val_size = update_vocab(os.path.join(path, 'val/labels.txt'), tags)\n",
        "test_size = update_vocab(os.path.join(path, 'test/labels.txt'), tags)\n",
        "\n",
        "print(train_size, val_size, test_size)\n",
        "#print(tags)\n",
        "\n",
        "print(\"Tags Vocab Building successful!!!\")"
      ],
      "execution_count": 35,
      "outputs": [
        {
          "output_type": "stream",
          "text": [
            "Tags Vocab Building starts :-D \n",
            "10 10 10\n",
            "Tags Vocab Building successful!!!\n"
          ],
          "name": "stdout"
        }
      ]
    },
    {
      "cell_type": "markdown",
      "metadata": {
        "id": "Q5WRBZrqhyIh",
        "colab_type": "text"
      },
      "source": [
        "### 5.3) Keeping Most Frequent Tokens"
      ]
    },
    {
      "cell_type": "code",
      "metadata": {
        "id": "IkUkFQ01i6dy",
        "colab_type": "code",
        "colab": {}
      },
      "source": [
        "# Keeping only most frequent words\n",
        "words = [token for token,count in words.items() if count>=1]\n",
        "tags =  [token for token,count in tags.items() if count>=1]"
      ],
      "execution_count": 0,
      "outputs": []
    },
    {
      "cell_type": "code",
      "metadata": {
        "id": "rm0rZU2ejV4J",
        "colab_type": "code",
        "colab": {}
      },
      "source": [
        "#words"
      ],
      "execution_count": 0,
      "outputs": []
    },
    {
      "cell_type": "code",
      "metadata": {
        "id": "BEKKr1BpjgNm",
        "colab_type": "code",
        "colab": {
          "base_uri": "https://localhost:8080/",
          "height": 204
        },
        "outputId": "d7468b8b-bced-4041-d332-007198a54205"
      },
      "source": [
        "tags"
      ],
      "execution_count": 33,
      "outputs": [
        {
          "output_type": "execute_result",
          "data": {
            "text/plain": [
              "['O',\n",
              " 'B-geo',\n",
              " 'B-gpe',\n",
              " 'B-per',\n",
              " 'I-geo',\n",
              " 'B-org',\n",
              " 'I-org',\n",
              " 'B-tim',\n",
              " 'B-art',\n",
              " 'I-art',\n",
              " 'I-per']"
            ]
          },
          "metadata": {
            "tags": []
          },
          "execution_count": 33
        }
      ]
    },
    {
      "cell_type": "code",
      "metadata": {
        "id": "If21hz8Sjmih",
        "colab_type": "code",
        "colab": {}
      },
      "source": [
        "# Hyper parameters for the vocab\n",
        "\n",
        "PAD_WORD = '<pad>'\n",
        "PAD_TAG = 'O'\n",
        "UNK_WORD = 'UNK'\n"
      ],
      "execution_count": 0,
      "outputs": []
    },
    {
      "cell_type": "code",
      "metadata": {
        "id": "wFZjX8VMj4dE",
        "colab_type": "code",
        "colab": {}
      },
      "source": [
        "# Add pad tokens\n",
        "if PAD_WORD not in words: words.append(PAD_WORD)\n",
        "if PAD_TAG not in tags: tags.append(PAD_TAG)\n",
        "\n",
        "# add word for unknown words \n",
        "words.append(UNK_WORD)"
      ],
      "execution_count": 0,
      "outputs": []
    },
    {
      "cell_type": "code",
      "metadata": {
        "id": "CoP-FpYEkBsr",
        "colab_type": "code",
        "colab": {}
      },
      "source": [
        "#words"
      ],
      "execution_count": 0,
      "outputs": []
    },
    {
      "cell_type": "code",
      "metadata": {
        "id": "ZLYtsWa5kKY_",
        "colab_type": "code",
        "colab": {}
      },
      "source": [
        "#tags"
      ],
      "execution_count": 0,
      "outputs": []
    },
    {
      "cell_type": "markdown",
      "metadata": {
        "id": "P9WCiEVxkk7j",
        "colab_type": "text"
      },
      "source": [
        "### 5.4) Saving words and tags to text files"
      ]
    },
    {
      "cell_type": "code",
      "metadata": {
        "id": "qXy9blbhkQ0r",
        "colab_type": "code",
        "colab": {}
      },
      "source": [
        "def save_to_file(file_path,vocab):\n",
        "\n",
        "  with open(file_path,'w') as f:\n",
        "\n",
        "    for tok in vocab:\n",
        "      f.write(tok + '\\n')"
      ],
      "execution_count": 0,
      "outputs": []
    },
    {
      "cell_type": "code",
      "metadata": {
        "id": "cW0pObJslrx-",
        "colab_type": "code",
        "colab": {}
      },
      "source": [
        "path = 'drive/My Drive/Pytorch_DataSet/Named Entity Recognition/small/'"
      ],
      "execution_count": 0,
      "outputs": []
    },
    {
      "cell_type": "code",
      "metadata": {
        "id": "bYTvIUpPlesd",
        "colab_type": "code",
        "colab": {
          "base_uri": "https://localhost:8080/",
          "height": 68
        },
        "outputId": "0afba16f-c417-42ec-dd24-b29abf27d986"
      },
      "source": [
        "# For words.txt \n",
        "\n",
        "print(\"Making words.txt file \\n\")\n",
        "save_to_file(os.path.join(path,'words.txt'),words)\n",
        "print('done')"
      ],
      "execution_count": 44,
      "outputs": [
        {
          "output_type": "stream",
          "text": [
            "Making words.txt file \n",
            "\n",
            "done\n"
          ],
          "name": "stdout"
        }
      ]
    },
    {
      "cell_type": "code",
      "metadata": {
        "id": "bN1dJzMTmEl0",
        "colab_type": "code",
        "colab": {
          "base_uri": "https://localhost:8080/",
          "height": 68
        },
        "outputId": "172b9733-00cf-4a01-ab98-ba04d8766e0e"
      },
      "source": [
        "# For tags.txt \n",
        "\n",
        "print(\"Making tags.txt file \\n\")\n",
        "save_to_file(os.path.join(path,'tags.txt'),tags)\n",
        "print('done')"
      ],
      "execution_count": 43,
      "outputs": [
        {
          "output_type": "stream",
          "text": [
            "Making tags.txt file \n",
            "\n",
            "done\n"
          ],
          "name": "stdout"
        }
      ]
    },
    {
      "cell_type": "markdown",
      "metadata": {
        "id": "1qg8kV3WoeVy",
        "colab_type": "text"
      },
      "source": [
        "### 5.5) Creating json file"
      ]
    },
    {
      "cell_type": "code",
      "metadata": {
        "id": "Ei1Z6Lhqp6r6",
        "colab_type": "code",
        "colab": {}
      },
      "source": [
        "import json"
      ],
      "execution_count": 0,
      "outputs": []
    },
    {
      "cell_type": "code",
      "metadata": {
        "id": "bOqp7lIOmRZw",
        "colab_type": "code",
        "colab": {}
      },
      "source": [
        "def save_to_json(file_path,d):\n",
        "\n",
        "  with open(file_path, 'w') as f:\n",
        "    d = {k: v for k, v in d.items()}\n",
        "    json.dump(d, f, indent=4)"
      ],
      "execution_count": 0,
      "outputs": []
    },
    {
      "cell_type": "code",
      "metadata": {
        "id": "a-JVZ_pOo6N_",
        "colab_type": "code",
        "colab": {}
      },
      "source": [
        "# Save datasets properties in json file\n",
        "\n",
        "path = 'drive/My Drive/Pytorch_DataSet/Named Entity Recognition/small/'\n",
        "\n",
        "sizes = {\n",
        "    'train_size': train_size,\n",
        "    'dev_size': val_size,\n",
        "    'test_size': test_size,\n",
        "    'vocab_size': len(words),\n",
        "    'number_of_tags': len(tags),\n",
        "    'pad_word': PAD_WORD,\n",
        "    'pad_tag': PAD_TAG,\n",
        "    'unk_word': UNK_WORD\n",
        "}\n",
        "\n",
        "save_to_json(os.path.join(path, 'dataset_params.json'),sizes)"
      ],
      "execution_count": 0,
      "outputs": []
    },
    {
      "cell_type": "code",
      "metadata": {
        "id": "BcSc2bwopCPK",
        "colab_type": "code",
        "colab": {
          "base_uri": "https://localhost:8080/",
          "height": 170
        },
        "outputId": "6b886d69-1721-459c-ff5c-07a61a9f7d7a"
      },
      "source": [
        "# Logging sizes\n",
        "\n",
        "to_print = \"\\n\".join(\"- {}: {}\".format(k, v) for k, v in sizes.items())\n",
        "print(\"Characteristics of the dataset:\\n{}\".format(to_print))"
      ],
      "execution_count": 50,
      "outputs": [
        {
          "output_type": "stream",
          "text": [
            "Characteristics of the dataset:\n",
            "- train_size: 10\n",
            "- dev_size: 10\n",
            "- test_size: 10\n",
            "- vocab_size: 369\n",
            "- number_of_tags: 11\n",
            "- pad_word: <pad>\n",
            "- pad_tag: O\n",
            "- unk_word: UNK\n"
          ],
          "name": "stdout"
        }
      ]
    },
    {
      "cell_type": "markdown",
      "metadata": {
        "id": "Mhm-MnAtx_Il",
        "colab_type": "text"
      },
      "source": [
        "Next in Series : [Model training](https://github.com/akash1309/Named-Entity-Recognition/blob/master/Model_Training.ipynb)"
      ]
    }
  ]
}