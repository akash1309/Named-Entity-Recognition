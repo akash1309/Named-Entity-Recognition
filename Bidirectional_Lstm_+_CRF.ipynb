{
  "nbformat": 4,
  "nbformat_minor": 0,
  "metadata": {
    "colab": {
      "name": "Bidirectional Lstm + CRF.ipynb",
      "provenance": [],
      "mount_file_id": "1LpxWKzIwRF2LP8iKbSLxBSBpKLHp0xki",
      "authorship_tag": "ABX9TyPiNVm+DqYbLJ2JU8qjwSvd"
    },
    "kernelspec": {
      "name": "python3",
      "display_name": "Python 3"
    }
  },
  "cells": [
    {
      "cell_type": "markdown",
      "metadata": {
        "id": "MdGLlbTuaHH4",
        "colab_type": "text"
      },
      "source": [
        "# Bidirectional LSTM + CRF\n",
        "\n",
        "If you are new to this post, then please refer to [Model Basics](https://github.com/akash1309/Named-Entity-Recognition/blob/master/Model_Basics.ipynb)"
      ]
    },
    {
      "cell_type": "markdown",
      "metadata": {
        "id": "bx7Q18mNakfk",
        "colab_type": "text"
      },
      "source": [
        "\n",
        "Advanced: Making Dynamic Decisions and the Bi-LSTM CRF\n",
        "======================================================\n",
        "\n",
        "Dynamic versus Static Deep Learning Toolkits\n",
        "--------------------------------------------\n",
        "\n",
        "Pytorch is a *dynamic* neural network kit. Another example of a dynamic\n",
        "kit is `Dynet <https://github.com/clab/dynet>`__ (I mention this because\n",
        "working with Pytorch and Dynet is similar. If you see an example in\n",
        "Dynet, it will probably help you implement it in Pytorch). The opposite\n",
        "is the *static* tool kit, which includes Theano, Keras, TensorFlow, etc.\n",
        "The core difference is the following:\n",
        "\n",
        "* In a static toolkit, you define\n",
        "  a computation graph once, compile it, and then stream instances to it.\n",
        "* In a dynamic toolkit, you define a computation graph *for each\n",
        "  instance*. It is never compiled and is executed on-the-fly\n",
        "\n",
        "Without a lot of experience, it is difficult to appreciate the\n",
        "difference. One example is to suppose we want to build a deep\n",
        "constituent parser. Suppose our model involves roughly the following\n",
        "steps:\n",
        "\n",
        "* We build the tree bottom up\n",
        "* Tag the root nodes (the words of the sentence)\n",
        "* From there, use a neural network and the embeddings\n",
        "  of the words to find combinations that form constituents. Whenever you\n",
        "  form a new constituent, use some sort of technique to get an embedding\n",
        "  of the constituent. In this case, our network architecture will depend\n",
        "  completely on the input sentence. In the sentence \"The green cat\n",
        "  scratched the wall\", at some point in the model, we will want to combine\n",
        "  the span $(i,j,r) = (1, 3, \\text{NP})$ (that is, an NP constituent\n",
        "  spans word 1 to word 3, in this case \"The green cat\").\n",
        "\n",
        "However, another sentence might be \"Somewhere, the big fat cat scratched\n",
        "the wall\". In this sentence, we will want to form the constituent\n",
        "$(2, 4, NP)$ at some point. The constituents we will want to form\n",
        "will depend on the instance. If we just compile the computation graph\n",
        "once, as in a static toolkit, it will be exceptionally difficult or\n",
        "impossible to program this logic. In a dynamic toolkit though, there\n",
        "isn't just 1 pre-defined computation graph. There can be a new\n",
        "computation graph for each instance, so this problem goes away.\n",
        "\n",
        "Dynamic toolkits also have the advantage of being easier to debug and\n",
        "the code more closely resembling the host language (by that I mean that\n",
        "Pytorch and Dynet look more like actual Python code than Keras or\n",
        "Theano).\n",
        "\n",
        "Bi-LSTM Conditional Random Field Discussion\n",
        "-------------------------------------------\n",
        "\n",
        "For this section, we will see a full, complicated example of a Bi-LSTM\n",
        "Conditional Random Field for named-entity recognition. The LSTM tagger\n",
        "above is typically sufficient for part-of-speech tagging, but a sequence\n",
        "model like the CRF is really essential for strong performance on NER.\n",
        "Familiarity with CRF's is assumed. Although this name sounds scary, all\n",
        "the model is is a CRF but where an LSTM provides the features. This is\n",
        "an advanced model though, far more complicated than any earlier model in\n",
        "this tutorial. If you want to skip it, that is fine. To see if you're\n",
        "ready, see if you can:\n",
        "\n",
        "-  Write the recurrence for the viterbi variable at step i for tag k.\n",
        "-  Modify the above recurrence to compute the forward variables instead.\n",
        "-  Modify again the above recurrence to compute the forward variables in\n",
        "   log-space (hint: log-sum-exp)\n",
        "\n",
        "If you can do those three things, you should be able to understand the\n",
        "code below. Recall that the CRF computes a conditional probability. Let\n",
        "$y$ be a tag sequence and $x$ an input sequence of words.\n",
        "Then we compute\n",
        "\n",
        "\\begin{align}P(y|x) = \\frac{\\exp{(\\text{Score}(x, y)})}{\\sum_{y'} \\exp{(\\text{Score}(x, y')})}\\end{align}\n",
        "\n",
        "Where the score is determined by defining some log potentials\n",
        "$\\log \\psi_i(x,y)$ such that\n",
        "\n",
        "\\begin{align}\\text{Score}(x,y) = \\sum_i \\log \\psi_i(x,y)\\end{align}\n",
        "\n",
        "To make the partition function tractable, the potentials must look only\n",
        "at local features.\n",
        "\n",
        "In the Bi-LSTM CRF, we define two kinds of potentials: emission and\n",
        "transition. The emission potential for the word at index $i$ comes\n",
        "from the hidden state of the Bi-LSTM at timestep $i$. The\n",
        "transition scores are stored in a $|T|x|T|$ matrix\n",
        "$\\textbf{P}$, where $T$ is the tag set. In my\n",
        "implementation, $\\textbf{P}_{j,k}$ is the score of transitioning\n",
        "to tag $j$ from tag $k$. So:\n",
        "\n",
        "\\begin{align}\\text{Score}(x,y) = \\sum_i \\log \\psi_\\text{EMIT}(y_i \\rightarrow x_i) + \\log \\psi_\\text{TRANS}(y_{i-1} \\rightarrow y_i)\\end{align}\n",
        "\n",
        "\\begin{align}= \\sum_i h_i[y_i] + \\textbf{P}_{y_i, y_{i-1}}\\end{align}\n",
        "\n",
        "where in this second expression, we think of the tags as being assigned\n",
        "unique non-negative indices.\n",
        "\n",
        "If the above discussion was too brief, you can check out\n",
        "`this <http://www.cs.columbia.edu/%7Emcollins/crf.pdf>`__ write up from\n",
        "Michael Collins on CRFs.\n",
        "\n",
        "Implementation Notes\n",
        "--------------------\n",
        "\n",
        "The example below implements the forward algorithm in log space to\n",
        "compute the partition function, and the viterbi algorithm to decode.\n",
        "Backpropagation will compute the gradients automatically for us. We\n",
        "don't have to do anything by hand.\n",
        "\n",
        "The implementation is not optimized. If you understand what is going on,\n",
        "you'll probably quickly see that iterating over the next tag in the\n",
        "forward algorithm could probably be done in one big operation. I wanted\n",
        "to code to be more readable. If you want to make the relevant change,\n",
        "you could probably use this tagger for real tasks.\n",
        "\n"
      ]
    },
    {
      "cell_type": "code",
      "metadata": {
        "id": "gfHt-C66Y93m",
        "colab_type": "code",
        "colab": {
          "base_uri": "https://localhost:8080/",
          "height": 34
        },
        "outputId": "155ca2a9-8082-4b13-cdaa-f106245b1497"
      },
      "source": [
        "import torch\n",
        "import torch.autograd as autograd\n",
        "import torch.nn as nn\n",
        "import torch.optim as optim\n",
        "\n",
        "torch.manual_seed(1)"
      ],
      "execution_count": 1,
      "outputs": [
        {
          "output_type": "execute_result",
          "data": {
            "text/plain": [
              "<torch._C.Generator at 0x7f299e908610>"
            ]
          },
          "metadata": {
            "tags": []
          },
          "execution_count": 1
        }
      ]
    },
    {
      "cell_type": "markdown",
      "metadata": {
        "id": "kFMdpGRKaxHH",
        "colab_type": "text"
      },
      "source": [
        "Helper functions to make the code more readable."
      ]
    },
    {
      "cell_type": "code",
      "metadata": {
        "id": "iIUHOsg2arqx",
        "colab_type": "code",
        "colab": {}
      },
      "source": [
        "def argmax(vec):\n",
        "  # return the argmax as a python int\n",
        "  _, idx = torch.max(vec, 1)\n",
        "  return idx.item()\n",
        "\n",
        "\n",
        "def prepare_sequence(seq, to_ix):\n",
        "  idxs = [to_ix[w] for w in seq]\n",
        "  return torch.tensor(idxs, dtype=torch.long)\n",
        "\n",
        "\n",
        "# Compute log sum exp in a numerically stable way for the forward algorithm\n",
        "def log_sum_exp(vec):\n",
        "  max_score = vec[0, argmax(vec)]\n",
        "  max_score_broadcast = max_score.view(1, -1).expand(1, vec.size()[1])\n",
        "  return max_score + torch.log(torch.sum(torch.exp(vec - max_score_broadcast)))"
      ],
      "execution_count": 0,
      "outputs": []
    },
    {
      "cell_type": "markdown",
      "metadata": {
        "id": "e6yaSW3ya3T-",
        "colab_type": "text"
      },
      "source": [
        "Create model"
      ]
    },
    {
      "cell_type": "code",
      "metadata": {
        "id": "7YnnCmo6a0cm",
        "colab_type": "code",
        "colab": {}
      },
      "source": [
        "class BiLSTM_CRF(nn.Module):\n",
        "\n",
        "  def __init__(self, vocab_size, tag_to_ix, embedding_dim, hidden_dim):\n",
        "    super(BiLSTM_CRF, self).__init__()\n",
        "    self.embedding_dim = embedding_dim\n",
        "    self.hidden_dim = hidden_dim\n",
        "    self.vocab_size = vocab_size\n",
        "    self.tag_to_ix = tag_to_ix\n",
        "    self.tagset_size = len(tag_to_ix)\n",
        "\n",
        "    self.word_embeds = nn.Embedding(vocab_size, embedding_dim)\n",
        "    self.lstm = nn.LSTM(embedding_dim, hidden_dim // 2,num_layers=1, bidirectional=True)\n",
        "\n",
        "    # Maps the output of the LSTM into tag space.\n",
        "    self.hidden2tag = nn.Linear(hidden_dim, self.tagset_size)\n",
        "\n",
        "    # Matrix of transition parameters.  Entry i,j is the score of\n",
        "    # transitioning *to* i *from* j.\n",
        "    self.transitions = nn.Parameter(torch.randn(self.tagset_size, self.tagset_size))\n",
        "\n",
        "    # These two statements enforce the constraint that we never transfer\n",
        "    # to the start tag and we never transfer from the stop tag\n",
        "    self.transitions.data[tag_to_ix[START_TAG], :] = -10000\n",
        "    self.transitions.data[:, tag_to_ix[STOP_TAG]] = -10000\n",
        "\n",
        "    self.hidden = self.init_hidden()\n",
        "\n",
        "  def init_hidden(self):\n",
        "    return (torch.randn(2, 1, self.hidden_dim // 2),torch.randn(2, 1, self.hidden_dim // 2))\n",
        "\n",
        "  def _forward_alg(self, feats):\n",
        "    # Do the forward algorithm to compute the partition function\n",
        "    init_alphas = torch.full((1, self.tagset_size), -10000.)\n",
        "    # START_TAG has all of the score.\n",
        "    init_alphas[0][self.tag_to_ix[START_TAG]] = 0.\n",
        "\n",
        "    # Wrap in a variable so that we will get automatic backprop\n",
        "    forward_var = init_alphas\n",
        "\n",
        "    # Iterate through the sentence\n",
        "    for feat in feats:\n",
        "      alphas_t = []  # The forward tensors at this timestep\n",
        "      for next_tag in range(self.tagset_size):\n",
        "        # broadcast the emission score: it is the same regardless of\n",
        "        # the previous tag\n",
        "        emit_score = feat[next_tag].view(\n",
        "            1, -1).expand(1, self.tagset_size)\n",
        "        # the ith entry of trans_score is the score of transitioning to\n",
        "        # next_tag from i\n",
        "        trans_score = self.transitions[next_tag].view(1, -1)\n",
        "        # The ith entry of next_tag_var is the value for the\n",
        "        # edge (i -> next_tag) before we do log-sum-exp\n",
        "        next_tag_var = forward_var + trans_score + emit_score\n",
        "        # The forward variable for this tag is log-sum-exp of all the\n",
        "        # scores.\n",
        "        alphas_t.append(log_sum_exp(next_tag_var).view(1))\n",
        "      forward_var = torch.cat(alphas_t).view(1, -1)\n",
        "    terminal_var = forward_var + self.transitions[self.tag_to_ix[STOP_TAG]]\n",
        "    alpha = log_sum_exp(terminal_var)\n",
        "    return alpha\n",
        "\n",
        "  def _get_lstm_features(self, sentence):\n",
        "    self.hidden = self.init_hidden()\n",
        "    embeds = self.word_embeds(sentence).view(len(sentence), 1, -1)\n",
        "    lstm_out, self.hidden = self.lstm(embeds, self.hidden)\n",
        "    lstm_out = lstm_out.view(len(sentence), self.hidden_dim)\n",
        "    lstm_feats = self.hidden2tag(lstm_out)\n",
        "    return lstm_feats\n",
        "\n",
        "  def _score_sentence(self, feats, tags):\n",
        "    # Gives the score of a provided tag sequence\n",
        "    score = torch.zeros(1)\n",
        "    tags = torch.cat([torch.tensor([self.tag_to_ix[START_TAG]], dtype=torch.long), tags])\n",
        "    for i, feat in enumerate(feats):\n",
        "      score = score + self.transitions[tags[i + 1], tags[i]] + feat[tags[i + 1]]\n",
        "    score = score + self.transitions[self.tag_to_ix[STOP_TAG], tags[-1]]\n",
        "    return score\n",
        "\n",
        "  def _viterbi_decode(self, feats):\n",
        "    backpointers = []\n",
        "\n",
        "    # Initialize the viterbi variables in log space\n",
        "    init_vvars = torch.full((1, self.tagset_size), -10000.)\n",
        "    init_vvars[0][self.tag_to_ix[START_TAG]] = 0\n",
        "\n",
        "    # forward_var at step i holds the viterbi variables for step i-1\n",
        "    forward_var = init_vvars\n",
        "    for feat in feats:\n",
        "      bptrs_t = []  # holds the backpointers for this step\n",
        "      viterbivars_t = []  # holds the viterbi variables for this step\n",
        "\n",
        "      for next_tag in range(self.tagset_size):\n",
        "        # next_tag_var[i] holds the viterbi variable for tag i at the\n",
        "        # previous step, plus the score of transitioning\n",
        "        # from tag i to next_tag.\n",
        "        # We don't include the emission scores here because the max\n",
        "        # does not depend on them (we add them in below)\n",
        "        next_tag_var = forward_var + self.transitions[next_tag]\n",
        "        best_tag_id = argmax(next_tag_var)\n",
        "        bptrs_t.append(best_tag_id)\n",
        "        viterbivars_t.append(next_tag_var[0][best_tag_id].view(1))\n",
        "      # Now add in the emission scores, and assign forward_var to the set\n",
        "      # of viterbi variables we just computed\n",
        "      forward_var = (torch.cat(viterbivars_t) + feat).view(1, -1)\n",
        "      backpointers.append(bptrs_t)\n",
        "\n",
        "    # Transition to STOP_TAG\n",
        "    terminal_var = forward_var + self.transitions[self.tag_to_ix[STOP_TAG]]\n",
        "    best_tag_id = argmax(terminal_var)\n",
        "    path_score = terminal_var[0][best_tag_id]\n",
        "\n",
        "    # Follow the back pointers to decode the best path.\n",
        "    best_path = [best_tag_id]\n",
        "    for bptrs_t in reversed(backpointers):\n",
        "      best_tag_id = bptrs_t[best_tag_id]\n",
        "      best_path.append(best_tag_id)\n",
        "    # Pop off the start tag (we dont want to return that to the caller)\n",
        "    start = best_path.pop()\n",
        "    assert start == self.tag_to_ix[START_TAG]  # Sanity check\n",
        "    best_path.reverse()\n",
        "    return path_score, best_path\n",
        "\n",
        "  def neg_log_likelihood(self, sentence, tags):\n",
        "    feats = self._get_lstm_features(sentence)\n",
        "    forward_score = self._forward_alg(feats)\n",
        "    gold_score = self._score_sentence(feats, tags)\n",
        "    return forward_score - gold_score\n",
        "\n",
        "  def forward(self, sentence):  # dont confuse this with _forward_alg above.\n",
        "    # Get the emission scores from the BiLSTM\n",
        "    lstm_feats = self._get_lstm_features(sentence)\n",
        "\n",
        "    # Find the best path, given the features.\n",
        "    score, tag_seq = self._viterbi_decode(lstm_feats)\n",
        "    return score, tag_seq"
      ],
      "execution_count": 0,
      "outputs": []
    },
    {
      "cell_type": "markdown",
      "metadata": {
        "id": "cpH_8X95bAj9",
        "colab_type": "text"
      },
      "source": [
        "Run training"
      ]
    },
    {
      "cell_type": "code",
      "metadata": {
        "id": "57Og9igNcwV2",
        "colab_type": "code",
        "colab": {
          "base_uri": "https://localhost:8080/",
          "height": 34
        },
        "outputId": "f99f851a-d3f7-47a4-f0f6-165bb2f19ba5"
      },
      "source": [
        "# For words\n",
        "\n",
        "word_filepath = 'drive/My Drive/Pytorch_DataSet/Named Entity Recognition/big/words.txt'\n",
        "word_to_ix = {}\n",
        "with open(word_filepath,'r') as f:\n",
        "\n",
        "  for i,word in enumerate(set(f.read().splitlines())):\n",
        "    word_to_ix[word] = i   # Because first 2 indices are stored for padding and unknown character\n",
        "\n",
        "#word_to_ix['<pad>'] = 0  # padding\n",
        "#word_to_ix['UNK'] = 1    # unknown\n",
        "\n",
        "ix_to_word = {index: word for word, index in word_to_ix.items()}\n",
        "print(len(word_to_ix))"
      ],
      "execution_count": 4,
      "outputs": [
        {
          "output_type": "stream",
          "text": [
            "35178\n"
          ],
          "name": "stdout"
        }
      ]
    },
    {
      "cell_type": "code",
      "metadata": {
        "id": "D1lHVshgdAwu",
        "colab_type": "code",
        "colab": {
          "base_uri": "https://localhost:8080/",
          "height": 34
        },
        "outputId": "a28baf12-3f2b-4c33-e3f2-ea22426666c3"
      },
      "source": [
        "# for tags.txt\n",
        "START_TAG = \"<START>\"\n",
        "STOP_TAG = \"<STOP>\"\n",
        "tags_filepath = 'drive/My Drive/Pytorch_DataSet/Named Entity Recognition/big/tags.txt'\n",
        "tag_to_ix = {}\n",
        "\n",
        "with open(tags_filepath,'r') as f:\n",
        "  for i,word in enumerate(set(f.read().splitlines())):\n",
        "    tag_to_ix[word] = i\n",
        "tag_to_ix[START_TAG] = len(tag_to_ix)\n",
        "tag_to_ix[STOP_TAG] = len(tag_to_ix)\n",
        "\n",
        "ix_to_tag = {index: word for word, index in tag_to_ix.items()}\n",
        "print(len(tag_to_ix))"
      ],
      "execution_count": 5,
      "outputs": [
        {
          "output_type": "stream",
          "text": [
            "19\n"
          ],
          "name": "stdout"
        }
      ]
    },
    {
      "cell_type": "code",
      "metadata": {
        "id": "ySYX8t7Ma9if",
        "colab_type": "code",
        "colab": {
          "base_uri": "https://localhost:8080/",
          "height": 139
        },
        "outputId": "573a76b1-b911-4044-8208-f4e8b80f49e1"
      },
      "source": [
        "\n",
        "EMBEDDING_DIM = 50\n",
        "HIDDEN_DIM = 50\n",
        "\n",
        "# Make up some training data\n",
        "sent_file = 'drive/My Drive/Pytorch_DataSet/Named Entity Recognition/big/sentences.txt'\n",
        "label_file = 'drive/My Drive/Pytorch_DataSet/Named Entity Recognition/big/labels.txt'\n",
        "sentences = []\n",
        "with open(sent_file,'r') as f:\n",
        "  txt = f.read().splitlines()\n",
        "\n",
        "for sent in txt:\n",
        "  sentences.append(sent)\n",
        "\n",
        "print(len(sentences))\n",
        "\n",
        "labels = []\n",
        "with open(label_file,'r') as f:\n",
        "  txt = f.read().splitlines()\n",
        "\n",
        "for lab in txt:\n",
        "  labels.append(lab)\n",
        "\n",
        "print(len(labels))\n",
        "print(sentences[0])\n",
        "print(labels[0])\n",
        "\n",
        "data = [(sentences[i].split(), labels[i].split()) for i in range(0, len(sentences))]\n",
        "# For now lets take only 1000 sentences\n",
        "\n",
        "training_data = data[:1000]\n",
        "testing_data = data[1000:1010]\n",
        "print(len(training_data))\n",
        "#print(training_set[:2]) \n",
        "print(type(training_data))"
      ],
      "execution_count": 6,
      "outputs": [
        {
          "output_type": "stream",
          "text": [
            "47959\n",
            "47959\n",
            "Thousands of demonstrators have marched through London to protest the war in Iraq and demand the withdrawal of British troops from that country .\n",
            "O O O O O O B-geo O O O O O B-geo O O O O O B-gpe O O O O O\n",
            "1000\n",
            "<class 'list'>\n"
          ],
          "name": "stdout"
        }
      ]
    },
    {
      "cell_type": "code",
      "metadata": {
        "id": "FWptc-mFbGNh",
        "colab_type": "code",
        "colab": {
          "base_uri": "https://localhost:8080/",
          "height": 102
        },
        "outputId": "ef0a0093-de25-4ea6-ee32-bb4af96a3c66"
      },
      "source": [
        "model = BiLSTM_CRF(len(word_to_ix), tag_to_ix, EMBEDDING_DIM, HIDDEN_DIM)\n",
        "model"
      ],
      "execution_count": 7,
      "outputs": [
        {
          "output_type": "execute_result",
          "data": {
            "text/plain": [
              "BiLSTM_CRF(\n",
              "  (word_embeds): Embedding(35178, 50)\n",
              "  (lstm): LSTM(50, 25, bidirectional=True)\n",
              "  (hidden2tag): Linear(in_features=50, out_features=19, bias=True)\n",
              ")"
            ]
          },
          "metadata": {
            "tags": []
          },
          "execution_count": 7
        }
      ]
    },
    {
      "cell_type": "code",
      "metadata": {
        "id": "Zf8ggaGtbHDt",
        "colab_type": "code",
        "colab": {
          "base_uri": "https://localhost:8080/",
          "height": 153
        },
        "outputId": "fdb10336-af1b-4465-ab05-b7d6ded25c77"
      },
      "source": [
        "optimizer = optim.SGD(model.parameters(), lr=0.01, weight_decay=1e-4)\n",
        "optimizer"
      ],
      "execution_count": 8,
      "outputs": [
        {
          "output_type": "execute_result",
          "data": {
            "text/plain": [
              "SGD (\n",
              "Parameter Group 0\n",
              "    dampening: 0\n",
              "    lr: 0.01\n",
              "    momentum: 0\n",
              "    nesterov: False\n",
              "    weight_decay: 0.0001\n",
              ")"
            ]
          },
          "metadata": {
            "tags": []
          },
          "execution_count": 8
        }
      ]
    },
    {
      "cell_type": "code",
      "metadata": {
        "id": "aSvAoGPZbLXg",
        "colab_type": "code",
        "colab": {
          "base_uri": "https://localhost:8080/",
          "height": 34
        },
        "outputId": "f7d8d20e-655a-4756-fac2-c6da6b166804"
      },
      "source": [
        "\n",
        "# Check predictions before training\n",
        "with torch.no_grad():\n",
        "  precheck_sent = prepare_sequence(training_data[0][0], word_to_ix)\n",
        "  precheck_tags = torch.tensor([tag_to_ix[t] for t in training_data[0][1]], dtype=torch.long)\n",
        "  print(model(precheck_sent))\n"
      ],
      "execution_count": 9,
      "outputs": [
        {
          "output_type": "stream",
          "text": [
            "(tensor(56.2492), [9, 14, 13, 9, 14, 13, 9, 14, 13, 9, 14, 13, 9, 14, 13, 9, 14, 13, 9, 14, 13, 9, 3, 7])\n"
          ],
          "name": "stdout"
        }
      ]
    },
    {
      "cell_type": "code",
      "metadata": {
        "id": "0MLOP5S8bPBy",
        "colab_type": "code",
        "colab": {
          "base_uri": "https://localhost:8080/",
          "height": 1000
        },
        "outputId": "96ff1d0c-f3d9-4a8f-eb28-1d249b2283df"
      },
      "source": [
        "losses = []\n",
        "\n",
        "# Make sure prepare_sequence from earlier in the LSTM section is loaded\n",
        "for epoch in range(20):  # again, normally you would NOT do 300 epochs, it is toy data\n",
        "  tracker = 0\n",
        "  for sentence, tags in training_data:\n",
        "    tracker += 1\n",
        "    # Step 1. Remember that Pytorch accumulates gradients.\n",
        "    # We need to clear them out before each instance\n",
        "    model.zero_grad()\n",
        "\n",
        "    # Step 2. Get our inputs ready for the network, that is,\n",
        "    # turn them into Tensors of word indices.\n",
        "    sentence_in = prepare_sequence(sentence, word_to_ix)\n",
        "    targets = torch.tensor([tag_to_ix[t] for t in tags], dtype=torch.long)\n",
        "\n",
        "    # Step 3. Run our forward pass.\n",
        "    loss = model.neg_log_likelihood(sentence_in, targets)\n",
        "    losses.append(loss.item())\n",
        "    if(tracker%100 == 0):\n",
        "      print(f'Epochs : {epoch}  Loss Values : {loss.item()}')\n",
        "    # Step 4. Compute the loss, gradients, and update the parameters by\n",
        "    # calling optimizer.step()\n",
        "    loss.backward()\n",
        "    optimizer.step()\n",
        "\n"
      ],
      "execution_count": 10,
      "outputs": [
        {
          "output_type": "stream",
          "text": [
            "Epochs : 0  Loss Values : 30.58507537841797\n",
            "Epochs : 0  Loss Values : 3.9963302612304688\n",
            "Epochs : 0  Loss Values : 11.715789794921875\n",
            "Epochs : 0  Loss Values : 6.805194854736328\n",
            "Epochs : 0  Loss Values : 4.2734527587890625\n",
            "Epochs : 0  Loss Values : 4.63916015625\n",
            "Epochs : 0  Loss Values : 1.4849205017089844\n",
            "Epochs : 0  Loss Values : 21.002182006835938\n",
            "Epochs : 0  Loss Values : 12.66448974609375\n",
            "Epochs : 0  Loss Values : 0.96624755859375\n",
            "Epochs : 1  Loss Values : 17.006179809570312\n",
            "Epochs : 1  Loss Values : 2.584197998046875\n",
            "Epochs : 1  Loss Values : 6.743438720703125\n",
            "Epochs : 1  Loss Values : 4.316043853759766\n",
            "Epochs : 1  Loss Values : 2.0470123291015625\n",
            "Epochs : 1  Loss Values : 2.385345458984375\n",
            "Epochs : 1  Loss Values : 1.0657844543457031\n",
            "Epochs : 1  Loss Values : 12.713905334472656\n",
            "Epochs : 1  Loss Values : 6.3920135498046875\n",
            "Epochs : 1  Loss Values : 0.4549407958984375\n",
            "Epochs : 2  Loss Values : 10.199432373046875\n",
            "Epochs : 2  Loss Values : 2.389129638671875\n",
            "Epochs : 2  Loss Values : 2.6898956298828125\n",
            "Epochs : 2  Loss Values : 2.5846939086914062\n",
            "Epochs : 2  Loss Values : 1.0608062744140625\n",
            "Epochs : 2  Loss Values : 1.9272308349609375\n",
            "Epochs : 2  Loss Values : 0.38875579833984375\n",
            "Epochs : 2  Loss Values : 10.416244506835938\n",
            "Epochs : 2  Loss Values : 3.8770751953125\n",
            "Epochs : 2  Loss Values : 0.867828369140625\n",
            "Epochs : 3  Loss Values : 6.6981201171875\n",
            "Epochs : 3  Loss Values : 2.81915283203125\n",
            "Epochs : 3  Loss Values : 2.5131072998046875\n",
            "Epochs : 3  Loss Values : 1.4839248657226562\n",
            "Epochs : 3  Loss Values : 0.6895294189453125\n",
            "Epochs : 3  Loss Values : 1.6159210205078125\n",
            "Epochs : 3  Loss Values : 0.49987030029296875\n",
            "Epochs : 3  Loss Values : 8.767837524414062\n",
            "Epochs : 3  Loss Values : 3.022216796875\n",
            "Epochs : 3  Loss Values : 1.2273025512695312\n",
            "Epochs : 4  Loss Values : 5.004608154296875\n",
            "Epochs : 4  Loss Values : 2.380523681640625\n",
            "Epochs : 4  Loss Values : 1.9728851318359375\n",
            "Epochs : 4  Loss Values : 1.2485275268554688\n",
            "Epochs : 4  Loss Values : 0.458282470703125\n",
            "Epochs : 4  Loss Values : 1.4091644287109375\n",
            "Epochs : 4  Loss Values : 0.11949920654296875\n",
            "Epochs : 4  Loss Values : 7.1883087158203125\n",
            "Epochs : 4  Loss Values : 2.507354736328125\n",
            "Epochs : 4  Loss Values : 0.18099212646484375\n",
            "Epochs : 5  Loss Values : 3.02923583984375\n",
            "Epochs : 5  Loss Values : 1.3602294921875\n",
            "Epochs : 5  Loss Values : 1.36151123046875\n",
            "Epochs : 5  Loss Values : 1.9446334838867188\n",
            "Epochs : 5  Loss Values : 0.411712646484375\n",
            "Epochs : 5  Loss Values : 1.3923797607421875\n",
            "Epochs : 5  Loss Values : 0.06266021728515625\n",
            "Epochs : 5  Loss Values : 6.534637451171875\n",
            "Epochs : 5  Loss Values : 1.946044921875\n",
            "Epochs : 5  Loss Values : 0.166259765625\n",
            "Epochs : 6  Loss Values : 2.2050628662109375\n",
            "Epochs : 6  Loss Values : 0.7758941650390625\n",
            "Epochs : 6  Loss Values : 1.5748443603515625\n",
            "Epochs : 6  Loss Values : 0.7887496948242188\n",
            "Epochs : 6  Loss Values : 0.245452880859375\n",
            "Epochs : 6  Loss Values : 1.2579345703125\n",
            "Epochs : 6  Loss Values : 0.0561370849609375\n",
            "Epochs : 6  Loss Values : 4.1923065185546875\n",
            "Epochs : 6  Loss Values : 1.6209716796875\n",
            "Epochs : 6  Loss Values : 0.08454132080078125\n",
            "Epochs : 7  Loss Values : 1.36932373046875\n",
            "Epochs : 7  Loss Values : 0.5769500732421875\n",
            "Epochs : 7  Loss Values : 1.2225799560546875\n",
            "Epochs : 7  Loss Values : 0.42691802978515625\n",
            "Epochs : 7  Loss Values : 0.131500244140625\n",
            "Epochs : 7  Loss Values : 1.2386627197265625\n",
            "Epochs : 7  Loss Values : 0.04498291015625\n",
            "Epochs : 7  Loss Values : 4.640106201171875\n",
            "Epochs : 7  Loss Values : 1.329437255859375\n",
            "Epochs : 7  Loss Values : 0.18024444580078125\n",
            "Epochs : 8  Loss Values : 1.14288330078125\n",
            "Epochs : 8  Loss Values : 0.2791748046875\n",
            "Epochs : 8  Loss Values : 1.058013916015625\n",
            "Epochs : 8  Loss Values : 0.44171905517578125\n",
            "Epochs : 8  Loss Values : 0.105255126953125\n",
            "Epochs : 8  Loss Values : 0.9785308837890625\n",
            "Epochs : 8  Loss Values : 0.04604339599609375\n",
            "Epochs : 8  Loss Values : 2.6429443359375\n",
            "Epochs : 8  Loss Values : 0.929046630859375\n",
            "Epochs : 8  Loss Values : 0.13816070556640625\n",
            "Epochs : 9  Loss Values : 1.62640380859375\n",
            "Epochs : 9  Loss Values : 0.14971923828125\n",
            "Epochs : 9  Loss Values : 0.9204254150390625\n",
            "Epochs : 9  Loss Values : 0.25455474853515625\n",
            "Epochs : 9  Loss Values : 0.077880859375\n",
            "Epochs : 9  Loss Values : 0.7353363037109375\n",
            "Epochs : 9  Loss Values : 0.10577392578125\n",
            "Epochs : 9  Loss Values : 3.3461151123046875\n",
            "Epochs : 9  Loss Values : 0.943450927734375\n",
            "Epochs : 9  Loss Values : 0.0315399169921875\n",
            "Epochs : 10  Loss Values : 1.117706298828125\n",
            "Epochs : 10  Loss Values : 0.15167236328125\n",
            "Epochs : 10  Loss Values : 1.497406005859375\n",
            "Epochs : 10  Loss Values : 2.4608306884765625\n",
            "Epochs : 10  Loss Values : 0.0697021484375\n",
            "Epochs : 10  Loss Values : 0.51116943359375\n",
            "Epochs : 10  Loss Values : 0.04351806640625\n",
            "Epochs : 10  Loss Values : 1.650146484375\n",
            "Epochs : 10  Loss Values : 0.66314697265625\n",
            "Epochs : 10  Loss Values : 0.0760650634765625\n",
            "Epochs : 11  Loss Values : 0.660675048828125\n",
            "Epochs : 11  Loss Values : 0.130462646484375\n",
            "Epochs : 11  Loss Values : 0.53533935546875\n",
            "Epochs : 11  Loss Values : 0.35613250732421875\n",
            "Epochs : 11  Loss Values : 0.013397216796875\n",
            "Epochs : 11  Loss Values : 0.75726318359375\n",
            "Epochs : 11  Loss Values : 0.030242919921875\n",
            "Epochs : 11  Loss Values : 1.6367034912109375\n",
            "Epochs : 11  Loss Values : 0.41607666015625\n",
            "Epochs : 11  Loss Values : 0.017242431640625\n",
            "Epochs : 12  Loss Values : 0.566162109375\n",
            "Epochs : 12  Loss Values : 0.0931396484375\n",
            "Epochs : 12  Loss Values : 0.3426513671875\n",
            "Epochs : 12  Loss Values : 0.20587158203125\n",
            "Epochs : 12  Loss Values : 0.020904541015625\n",
            "Epochs : 12  Loss Values : 0.565032958984375\n",
            "Epochs : 12  Loss Values : 0.05706787109375\n",
            "Epochs : 12  Loss Values : 2.0694580078125\n",
            "Epochs : 12  Loss Values : 0.319427490234375\n",
            "Epochs : 12  Loss Values : 0.02081298828125\n",
            "Epochs : 13  Loss Values : 0.62310791015625\n",
            "Epochs : 13  Loss Values : 0.07806396484375\n",
            "Epochs : 13  Loss Values : 0.229766845703125\n",
            "Epochs : 13  Loss Values : 0.5530548095703125\n",
            "Epochs : 13  Loss Values : 0.008392333984375\n",
            "Epochs : 13  Loss Values : 0.2869873046875\n",
            "Epochs : 13  Loss Values : 0.0539398193359375\n",
            "Epochs : 13  Loss Values : 1.910736083984375\n",
            "Epochs : 13  Loss Values : 0.266143798828125\n",
            "Epochs : 13  Loss Values : 0.2444000244140625\n",
            "Epochs : 14  Loss Values : 0.493377685546875\n",
            "Epochs : 14  Loss Values : 0.0548095703125\n",
            "Epochs : 14  Loss Values : 0.542144775390625\n",
            "Epochs : 14  Loss Values : 0.08359527587890625\n",
            "Epochs : 14  Loss Values : 0.00860595703125\n",
            "Epochs : 14  Loss Values : 0.27056884765625\n",
            "Epochs : 14  Loss Values : 0.0394134521484375\n",
            "Epochs : 14  Loss Values : 1.437896728515625\n",
            "Epochs : 14  Loss Values : 0.27728271484375\n",
            "Epochs : 14  Loss Values : 0.0074005126953125\n",
            "Epochs : 15  Loss Values : 2.993499755859375\n",
            "Epochs : 15  Loss Values : 0.048370361328125\n",
            "Epochs : 15  Loss Values : 0.41290283203125\n",
            "Epochs : 15  Loss Values : 0.31884002685546875\n",
            "Epochs : 15  Loss Values : 0.009521484375\n",
            "Epochs : 15  Loss Values : 0.190704345703125\n",
            "Epochs : 15  Loss Values : 0.015777587890625\n",
            "Epochs : 15  Loss Values : 1.435028076171875\n",
            "Epochs : 15  Loss Values : 0.197662353515625\n",
            "Epochs : 15  Loss Values : 0.0068817138671875\n",
            "Epochs : 16  Loss Values : 0.3843994140625\n",
            "Epochs : 16  Loss Values : 0.075927734375\n",
            "Epochs : 16  Loss Values : 0.205902099609375\n",
            "Epochs : 16  Loss Values : 0.12921142578125\n",
            "Epochs : 16  Loss Values : 0.0059814453125\n",
            "Epochs : 16  Loss Values : 0.409942626953125\n",
            "Epochs : 16  Loss Values : 0.0071563720703125\n",
            "Epochs : 16  Loss Values : 1.263275146484375\n",
            "Epochs : 16  Loss Values : 0.14501953125\n",
            "Epochs : 16  Loss Values : 0.0169830322265625\n",
            "Epochs : 17  Loss Values : 0.27935791015625\n",
            "Epochs : 17  Loss Values : 0.03936767578125\n",
            "Epochs : 17  Loss Values : 0.096435546875\n",
            "Epochs : 17  Loss Values : 0.08467864990234375\n",
            "Epochs : 17  Loss Values : 0.002716064453125\n",
            "Epochs : 17  Loss Values : 0.157562255859375\n",
            "Epochs : 17  Loss Values : 0.02557373046875\n",
            "Epochs : 17  Loss Values : 0.64178466796875\n",
            "Epochs : 17  Loss Values : 0.14483642578125\n",
            "Epochs : 17  Loss Values : 0.0045623779296875\n",
            "Epochs : 18  Loss Values : 0.250244140625\n",
            "Epochs : 18  Loss Values : 0.02447509765625\n",
            "Epochs : 18  Loss Values : 0.17523193359375\n",
            "Epochs : 18  Loss Values : 0.03759765625\n",
            "Epochs : 18  Loss Values : 0.004180908203125\n",
            "Epochs : 18  Loss Values : 0.170654296875\n",
            "Epochs : 18  Loss Values : 0.02447509765625\n",
            "Epochs : 18  Loss Values : 0.80059814453125\n",
            "Epochs : 18  Loss Values : 0.09564208984375\n",
            "Epochs : 18  Loss Values : 0.0268707275390625\n",
            "Epochs : 19  Loss Values : 0.270965576171875\n",
            "Epochs : 19  Loss Values : 0.037841796875\n",
            "Epochs : 19  Loss Values : 0.051025390625\n",
            "Epochs : 19  Loss Values : 0.5485076904296875\n",
            "Epochs : 19  Loss Values : 0.005096435546875\n",
            "Epochs : 19  Loss Values : 0.291534423828125\n",
            "Epochs : 19  Loss Values : 0.0328826904296875\n",
            "Epochs : 19  Loss Values : 1.087188720703125\n",
            "Epochs : 19  Loss Values : 0.1126708984375\n",
            "Epochs : 19  Loss Values : 0.0029296875\n"
          ],
          "name": "stdout"
        }
      ]
    },
    {
      "cell_type": "code",
      "metadata": {
        "id": "dDavK3hip7iz",
        "colab_type": "code",
        "colab": {
          "base_uri": "https://localhost:8080/",
          "height": 887
        },
        "outputId": "5dd2dee7-32b4-4344-9a01-797df8486be1"
      },
      "source": [
        "# Check predictions after training\n",
        "with torch.no_grad():\n",
        "  for sent, tag in testing_data:\n",
        "    precheck_sent = prepare_sequence(sent, word_to_ix)\n",
        "    a = model(precheck_sent)\n",
        "    b = [ix_to_tag[t] for t in a[1]]\n",
        "    print(f'Predicted Labels : {b}')\n",
        "    print(f'Actual Labels :    {tag}')\n",
        "    print('\\n\\n')  "
      ],
      "execution_count": 34,
      "outputs": [
        {
          "output_type": "stream",
          "text": [
            "Predicted Labels : ['O', 'B-per', 'I-per', 'O', 'O', 'O', 'O', 'O', 'O', 'O', 'O', 'O']\n",
            "Actual Labels :    ['O', 'O', 'O', 'O', 'O', 'O', 'B-org', 'O', 'O', 'O', 'O', 'O']\n",
            "\n",
            "\n",
            "\n",
            "Predicted Labels : ['O', 'O', 'O', 'O', 'O', 'O', 'O', 'O', 'O', 'O', 'O', 'O', 'O', 'O', 'O', 'O', 'O', 'O', 'O']\n",
            "Actual Labels :    ['O', 'O', 'O', 'O', 'O', 'O', 'O', 'O', 'O', 'O', 'O', 'O', 'O', 'O', 'O', 'O', 'O', 'O', 'O']\n",
            "\n",
            "\n",
            "\n",
            "Predicted Labels : ['B-per', 'I-per', 'I-per', 'I-per', 'O', 'O', 'O', 'O', 'O', 'O', 'O', 'O', 'O', 'O']\n",
            "Actual Labels :    ['O', 'O', 'B-per', 'I-per', 'O', 'O', 'O', 'O', 'O', 'O', 'O', 'O', 'O', 'O']\n",
            "\n",
            "\n",
            "\n",
            "Predicted Labels : ['O', 'O', 'B-gpe', 'O', 'O', 'O', 'O', 'O', 'O', 'O']\n",
            "Actual Labels :    ['O', 'O', 'B-org', 'O', 'O', 'O', 'O', 'O', 'O', 'O']\n",
            "\n",
            "\n",
            "\n",
            "Predicted Labels : ['O', 'O', 'O', 'O', 'O', 'O', 'O', 'B-org', 'I-org', 'O', 'O', 'O', 'O', 'O', 'O', 'O', 'O', 'O']\n",
            "Actual Labels :    ['O', 'O', 'O', 'O', 'O', 'O', 'O', 'B-org', 'I-org', 'I-org', 'O', 'O', 'O', 'O', 'O', 'O', 'O', 'O']\n",
            "\n",
            "\n",
            "\n",
            "Predicted Labels : ['O', 'O', 'B-org', 'O', 'O', 'O', 'O', 'O', 'O', 'O', 'O', 'O', 'O', 'O', 'O', 'O', 'B-tim', 'O', 'B-org', 'O', 'O', 'O']\n",
            "Actual Labels :    ['O', 'O', 'O', 'O', 'O', 'O', 'O', 'O', 'O', 'O', 'O', 'O', 'O', 'O', 'O', 'O', 'B-tim', 'O', 'O', 'O', 'O', 'O']\n",
            "\n",
            "\n",
            "\n",
            "Predicted Labels : ['O', 'B-org', 'I-org', 'I-org', 'O', 'O', 'B-tim', 'O', 'B-tim', 'O', 'O', 'O', 'O', 'O', 'O', 'O', 'O', 'O', 'O', 'O', 'O', 'O', 'O']\n",
            "Actual Labels :    ['O', 'O', 'O', 'O', 'O', 'O', 'B-tim', 'O', 'O', 'O', 'O', 'O', 'O', 'O', 'O', 'O', 'O', 'O', 'O', 'O', 'O', 'O', 'O']\n",
            "\n",
            "\n",
            "\n",
            "Predicted Labels : ['O', 'O', 'O', 'O', 'O', 'O', 'O', 'O', 'O', 'O', 'O', 'O', 'B-geo', 'O', 'B-org', 'I-org', 'O']\n",
            "Actual Labels :    ['O', 'O', 'O', 'O', 'O', 'O', 'O', 'O', 'O', 'O', 'O', 'O', 'B-geo', 'O', 'B-geo', 'O', 'O']\n",
            "\n",
            "\n",
            "\n",
            "Predicted Labels : ['O', 'O', 'O', 'O', 'O', 'O', 'O', 'O', 'O', 'O', 'O', 'O', 'O', 'O', 'O', 'O', 'O', 'O', 'O', 'O']\n",
            "Actual Labels :    ['O', 'B-org', 'O', 'O', 'O', 'O', 'O', 'O', 'O', 'O', 'O', 'O', 'O', 'O', 'O', 'O', 'O', 'O', 'O', 'O']\n",
            "\n",
            "\n",
            "\n",
            "Predicted Labels : ['O', 'O', 'O', 'O', 'O', 'O', 'O', 'O', 'O', 'O']\n",
            "Actual Labels :    ['O', 'O', 'O', 'O', 'O', 'O', 'O', 'O', 'O', 'O']\n",
            "\n",
            "\n",
            "\n"
          ],
          "name": "stdout"
        }
      ]
    },
    {
      "cell_type": "markdown",
      "metadata": {
        "id": "xnBtIV2f7ym8",
        "colab_type": "text"
      },
      "source": [
        "Model Efficiency can be increased with hyperparameter tuning."
      ]
    }
  ]
}