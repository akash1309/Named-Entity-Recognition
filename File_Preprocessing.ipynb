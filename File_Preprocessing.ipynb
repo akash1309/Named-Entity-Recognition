{
  "nbformat": 4,
  "nbformat_minor": 0,
  "metadata": {
    "colab": {
      "name": "File Preprocessing.ipynb",
      "provenance": [],
      "mount_file_id": "1RT9VoaPuUZhHtLKe2C0-5YaICYyNZfq7",
      "authorship_tag": "ABX9TyOZq38Q3WuLJHrCCFfdgXPB"
    },
    "kernelspec": {
      "name": "python3",
      "display_name": "Python 3"
    }
  },
  "cells": [
    {
      "cell_type": "markdown",
      "metadata": {
        "id": "0b1OlbllNENp",
        "colab_type": "text"
      },
      "source": [
        "# Dataset for NER tagging :  [Groningen Meaning Bank](https://gmb.let.rug.nl/data.php)\n",
        "\n",
        "\n",
        "      This release contains\n",
        "\n",
        "      1000 documents\n",
        "      4239 sentences\n",
        "      82752 tokens\n",
        "\n"
      ]
    },
    {
      "cell_type": "markdown",
      "metadata": {
        "id": "kmkeV_BgN9bZ",
        "colab_type": "text"
      },
      "source": [
        "Unzipping the file"
      ]
    },
    {
      "cell_type": "code",
      "metadata": {
        "id": "MiDPy8HUM7IY",
        "colab_type": "code",
        "colab": {}
      },
      "source": [
        "# Uncomment below line for extraction\n",
        "\n",
        "# !unzip 'drive/My Drive/Pytorch_DataSet/Named Entity Recognition/gmb-1.0.0.zip' -d 'drive/My Drive/Pytorch_DataSet/Named Entity Recognition/'"
      ],
      "execution_count": 0,
      "outputs": []
    },
    {
      "cell_type": "markdown",
      "metadata": {
        "id": "2-1s6etMPbde",
        "colab_type": "text"
      },
      "source": [
        "### File Descriptions"
      ]
    },
    {
      "cell_type": "markdown",
      "metadata": {
        "id": "-ZQ53avaWo5Q",
        "colab_type": "text"
      },
      "source": [
        " <hr size=5 noshade=False>   \n",
        "     \n",
        "      en.met file description:\n",
        "\n",
        "          Metadata about the document, such as title, data, source, genre, and\n",
        "          subcorpus. The format is one key/value pair per line, in the following form:\n",
        "          key: value"
      ]
    },
    {
      "cell_type": "code",
      "metadata": {
        "id": "zkYOavlQOH32",
        "colab_type": "code",
        "colab": {}
      },
      "source": [
        "# Reading the .met file for p00 (d0030)\n",
        "\n",
        "with open('drive/My Drive/Pytorch_DataSet/Named Entity Recognition/gmb-1.0.0/data/p00/d0030/en.met') as f:\n",
        "  met_file = f.readlines()"
      ],
      "execution_count": 0,
      "outputs": []
    },
    {
      "cell_type": "code",
      "metadata": {
        "id": "4o0ERtdLVyBn",
        "colab_type": "code",
        "colab": {
          "base_uri": "https://localhost:8080/",
          "height": 102
        },
        "outputId": "02cfbb4d-4ed1-4d63-c94e-00aff0a2dffb"
      },
      "source": [
        "met_file"
      ],
      "execution_count": 6,
      "outputs": [
        {
          "output_type": "execute_result",
          "data": {
            "text/plain": [
              "[\"title: Mortar Shells Fired at Somalia's Presidential Palace\\n\",\n",
              " 'date: \\xa0July 11, 2007\\n',\n",
              " 'source: http://www.voanews.com/english/news/a-13-2007-07-11-voa81.html\\n',\n",
              " 'genre: newspaper\\n',\n",
              " 'subcorpus: Voice of America\\n']"
            ]
          },
          "metadata": {
            "tags": []
          },
          "execution_count": 6
        }
      ]
    },
    {
      "cell_type": "markdown",
      "metadata": {
        "id": "bXPh5aJGW4Lr",
        "colab_type": "text"
      },
      "source": [
        " <hr size=5 noshade=False>   \n",
        "      \n",
        "      en.raw file description:\n",
        "\n",
        "      The raw text of the document. The standoff annotation (see below) refers to\n",
        "      character offsets (not byte offsets) in this document."
      ]
    },
    {
      "cell_type": "code",
      "metadata": {
        "id": "7EgNHAtwWbpP",
        "colab_type": "code",
        "colab": {}
      },
      "source": [
        "with open('drive/My Drive/Pytorch_DataSet/Named Entity Recognition/gmb-1.0.0/data/p00/d0030/en.raw') as f:\n",
        "  raw_file = f.readlines()"
      ],
      "execution_count": 0,
      "outputs": []
    },
    {
      "cell_type": "code",
      "metadata": {
        "id": "MYrn5RvPW_37",
        "colab_type": "code",
        "colab": {
          "base_uri": "https://localhost:8080/",
          "height": 170
        },
        "outputId": "f1d61e68-eaad-4b01-d5c4-43a56a10117b"
      },
      "source": [
        "raw_file"
      ],
      "execution_count": 8,
      "outputs": [
        {
          "output_type": "execute_result",
          "data": {
            "text/plain": [
              "['Suspected Islamist rebels have fired mortar shells at the palace used by\\n',\n",
              " \"Somalia's interim President Abdullahi Yusuf Ahmad.\\n\",\n",
              " 'It was not immediately clear if the president was in the palace in Mogadishu\\n',\n",
              " 'when the attack occurred or if anyone was hurt.\\n',\n",
              " 'Local news reports said at least five mortar shells hit the palace compound and\\n',\n",
              " 'other mortars were fired elsewhere in Mogadishu Wednesday.\\n',\n",
              " 'The attacks occurred after the government said it will go ahead with a\\n',\n",
              " 'reconciliation conference to which more than 1,300 Somali elders, warlords and\\n',\n",
              " 'politicians are invited.\\n']"
            ]
          },
          "metadata": {
            "tags": []
          },
          "execution_count": 8
        }
      ]
    },
    {
      "cell_type": "markdown",
      "metadata": {
        "id": "oMijxJHNXiCs",
        "colab_type": "text"
      },
      "source": [
        " <hr size=5 noshade=False>   \n",
        "    en.tok.off file description:\n",
        "\n",
        "    Standoff tokenization annotation in a vertical format. It contains one token\n",
        "    per line. Columns are separated by one space character. They contain,\n",
        "    respectively:\n",
        "    1. the character offset of the start of the token\n",
        "    2. the character offset of the end of the token\n",
        "    3. a token ID, consisting of the number of the token within the sentence\n",
        "       (last three digits) and the number of the sentence within the text\n",
        "       (all other digits)\n",
        "    4. the token itself."
      ]
    },
    {
      "cell_type": "code",
      "metadata": {
        "id": "PQ6_0LClXBLb",
        "colab_type": "code",
        "colab": {}
      },
      "source": [
        "with open('drive/My Drive/Pytorch_DataSet/Named Entity Recognition/gmb-1.0.0/data/p00/d0030/en.tok.off') as f:\n",
        "  tok_file = f.readlines()"
      ],
      "execution_count": 0,
      "outputs": []
    },
    {
      "cell_type": "code",
      "metadata": {
        "id": "hx_hZyOvX-ci",
        "colab_type": "code",
        "colab": {
          "base_uri": "https://localhost:8080/",
          "height": 1000
        },
        "outputId": "a0ca0f0e-fac2-4083-e5b8-d3d6bf1e3b97"
      },
      "source": [
        "tok_file"
      ],
      "execution_count": 10,
      "outputs": [
        {
          "output_type": "execute_result",
          "data": {
            "text/plain": [
              "['0 9 1001 Suspected\\n',\n",
              " '10 18 1002 Islamist\\n',\n",
              " '19 25 1003 rebels\\n',\n",
              " '26 30 1004 have\\n',\n",
              " '31 36 1005 fired\\n',\n",
              " '37 43 1006 mortar\\n',\n",
              " '44 50 1007 shells\\n',\n",
              " '51 53 1008 at\\n',\n",
              " '54 57 1009 the\\n',\n",
              " '58 64 1010 palace\\n',\n",
              " '65 69 1011 used\\n',\n",
              " '70 72 1012 by\\n',\n",
              " '73 80 1013 Somalia\\n',\n",
              " \"80 82 1014 's\\n\",\n",
              " '83 90 1015 interim\\n',\n",
              " '91 100 1016 President\\n',\n",
              " '101 110 1017 Abdullahi\\n',\n",
              " '111 116 1018 Yusuf\\n',\n",
              " '117 122 1019 Ahmad\\n',\n",
              " '122 123 1020 .\\n',\n",
              " '124 126 2001 It\\n',\n",
              " '127 130 2002 was\\n',\n",
              " '131 134 2003 not\\n',\n",
              " '135 146 2004 immediately\\n',\n",
              " '147 152 2005 clear\\n',\n",
              " '153 155 2006 if\\n',\n",
              " '156 159 2007 the\\n',\n",
              " '160 169 2008 president\\n',\n",
              " '170 173 2009 was\\n',\n",
              " '174 176 2010 in\\n',\n",
              " '177 180 2011 the\\n',\n",
              " '181 187 2012 palace\\n',\n",
              " '188 190 2013 in\\n',\n",
              " '191 200 2014 Mogadishu\\n',\n",
              " '201 205 2015 when\\n',\n",
              " '206 209 2016 the\\n',\n",
              " '210 216 2017 attack\\n',\n",
              " '217 225 2018 occurred\\n',\n",
              " '226 228 2019 or\\n',\n",
              " '229 231 2020 if\\n',\n",
              " '232 238 2021 anyone\\n',\n",
              " '239 242 2022 was\\n',\n",
              " '243 247 2023 hurt\\n',\n",
              " '247 248 2024 .\\n',\n",
              " '249 254 3001 Local\\n',\n",
              " '255 259 3002 news\\n',\n",
              " '260 267 3003 reports\\n',\n",
              " '268 272 3004 said\\n',\n",
              " '273 275 3005 at\\n',\n",
              " '276 281 3006 least\\n',\n",
              " '282 286 3007 five\\n',\n",
              " '287 293 3008 mortar\\n',\n",
              " '294 300 3009 shells\\n',\n",
              " '301 304 3010 hit\\n',\n",
              " '305 308 3011 the\\n',\n",
              " '309 315 3012 palace\\n',\n",
              " '316 324 3013 compound\\n',\n",
              " '325 328 3014 and\\n',\n",
              " '329 334 3015 other\\n',\n",
              " '335 342 3016 mortars\\n',\n",
              " '343 347 3017 were\\n',\n",
              " '348 353 3018 fired\\n',\n",
              " '354 363 3019 elsewhere\\n',\n",
              " '364 366 3020 in\\n',\n",
              " '367 376 3021 Mogadishu\\n',\n",
              " '377 386 3022 Wednesday\\n',\n",
              " '386 387 3023 .\\n',\n",
              " '388 391 4001 The\\n',\n",
              " '392 399 4002 attacks\\n',\n",
              " '400 408 4003 occurred\\n',\n",
              " '409 414 4004 after\\n',\n",
              " '415 418 4005 the\\n',\n",
              " '419 429 4006 government\\n',\n",
              " '430 434 4007 said\\n',\n",
              " '435 437 4008 it\\n',\n",
              " '438 442 4009 will\\n',\n",
              " '443 445 4010 go\\n',\n",
              " '446 451 4011 ahead\\n',\n",
              " '452 456 4012 with\\n',\n",
              " '457 458 4013 a\\n',\n",
              " '459 473 4014 reconciliation\\n',\n",
              " '474 484 4015 conference\\n',\n",
              " '485 487 4016 to\\n',\n",
              " '488 493 4017 which\\n',\n",
              " '494 498 4018 more\\n',\n",
              " '499 503 4019 than\\n',\n",
              " '504 509 4020 1,300\\n',\n",
              " '510 516 4021 Somali\\n',\n",
              " '517 523 4022 elders\\n',\n",
              " '523 524 4023 ,\\n',\n",
              " '525 533 4024 warlords\\n',\n",
              " '534 537 4025 and\\n',\n",
              " '538 549 4026 politicians\\n',\n",
              " '550 553 4027 are\\n',\n",
              " '554 561 4028 invited\\n',\n",
              " '561 562 4029 .\\n']"
            ]
          },
          "metadata": {
            "tags": []
          },
          "execution_count": 10
        }
      ]
    },
    {
      "cell_type": "markdown",
      "metadata": {
        "id": "s4n3ChFBYEMZ",
        "colab_type": "text"
      },
      "source": [
        "<hr size=5 noshade=False>\n",
        "    \n",
        "    en.tags file description:\n",
        "\n",
        "    Contains the annotation of all tokens with various tags, in the vertical\n",
        "    format described at\n",
        "    <http://svn.ask.it.usyd.edu.au/trac/candc/wiki/IOFormats>. Columns are\n",
        "    separated by tabs. They contain, respectively:\n",
        "    1. the token itself\n",
        "    2. a part-of-speech tag as used in the Penn Treebank\n",
        "       <ftp://ftp.cis.upenn.edu/pub/treebank/doc/tagguide.ps.gz>\n",
        "    3. a category as used in CCGBank\n",
        "       <www.cis.upenn.edu/departmental/reports/CCGbankManual.pdf>\n",
        "    4. a lemma\n",
        "    5. a named-entity tag, currently one of\n",
        "       * O (no named entity)\n",
        "       * I-ART (artifact)\n",
        "       * I-DAT (date)\n",
        "       * I-LOC (location)\n",
        "       * I-MON (money)\n",
        "       * I-ORG (organization)\n",
        "       * I-PCT (percentage)\n",
        "       * I-TIM (time)\n",
        "       * I-TTL (title)\n"
      ]
    },
    {
      "cell_type": "code",
      "metadata": {
        "id": "Arw76aeoYAA6",
        "colab_type": "code",
        "colab": {}
      },
      "source": [
        "with open('drive/My Drive/Pytorch_DataSet/Named Entity Recognition/gmb-1.0.0/data/p00/d0030/en.tags') as f:\n",
        "  tag_file = f.readlines()"
      ],
      "execution_count": 0,
      "outputs": []
    },
    {
      "cell_type": "code",
      "metadata": {
        "id": "PMxLPfGZYc2V",
        "colab_type": "code",
        "colab": {
          "base_uri": "https://localhost:8080/",
          "height": 1000
        },
        "outputId": "d1c19b3d-5005-4ad0-87ed-880ac9cb3ee3"
      },
      "source": [
        "tag_file"
      ],
      "execution_count": 12,
      "outputs": [
        {
          "output_type": "execute_result",
          "data": {
            "text/plain": [
              "['Suspected\\tJJ\\tN[nom]/N[nom]\\tsuspected\\tO\\n',\n",
              " 'Islamist\\tJJ\\tN[nom]/N[nom]\\tislamist\\tO\\n',\n",
              " 'rebels\\tNNS\\tN[nom]\\trebel\\tO\\n',\n",
              " 'have\\tVBP\\tS[dcl]\\\\NP/NP\\thave\\tO\\n',\n",
              " 'fired\\tVBN\\tS[pss]\\\\NP\\tfire\\tO\\n',\n",
              " 'mortar\\tNN\\tN[nom]/N[nom]\\tmortar\\tO\\n',\n",
              " 'shells\\tNNS\\tN[nom]\\tshell\\tO\\n',\n",
              " 'at\\tIN\\tNP\\\\NP/NP\\tat\\tO\\n',\n",
              " 'the\\tDT\\tNP/N[nom]\\tthe\\tO\\n',\n",
              " 'palace\\tNN\\tN[nom]\\tpalace\\tO\\n',\n",
              " 'used\\tVBN\\tS[pss]\\\\NP\\tuse\\tO\\n',\n",
              " 'by\\tIN\\tS[pss]\\\\NP\\\\S[pss]\\\\NP/NP\\tby\\tO\\n',\n",
              " 'Somalia\\tNNP\\tN[nam]\\tsomalium\\tI-LOC\\n',\n",
              " \"'s\\tPOS\\tNP/N[nam]\\\\NP\\t's\\tO\\n\",\n",
              " 'interim\\tJJ\\tN[nam]/N[nam]\\tinterim\\tO\\n',\n",
              " 'President\\tNNP\\tN[nam]/N[nam]\\tpresident\\tO\\n',\n",
              " 'Abdullahi\\tNNP\\tN[nam]/N[nam]\\tabdullahus\\tO\\n',\n",
              " 'Yusuf\\tNNP\\tN[nam]/N[nam]\\tyusuf\\tI-PER\\n',\n",
              " 'Ahmad\\tNNP\\tN[nam]\\tahmad\\tI-PER\\n',\n",
              " '.\\t.\\tS[dcl]\\\\S[dcl]\\t.\\tO\\n',\n",
              " '\\n',\n",
              " 'It\\tPRP\\tNP\\tit\\tO\\n',\n",
              " 'was\\tVBD\\tS[dcl]\\\\NP/S[adj]\\\\NP\\tbe\\tO\\n',\n",
              " 'not\\tRB\\tS[dcl]\\\\NP\\\\S[dcl]\\\\NP\\tnot\\tO\\n',\n",
              " 'immediately\\tRB\\tS[adj]\\\\NP/S[adj]\\\\NP\\timmediately\\tO\\n',\n",
              " 'clear\\tJJ\\tS[adj]\\\\NP\\tclear\\tO\\n',\n",
              " 'if\\tIN\\tS[dcl]\\\\NP\\\\S[dcl]\\\\NP/S[dcl]\\tif\\tO\\n',\n",
              " 'the\\tDT\\tNP/N[nom]\\tthe\\tO\\n',\n",
              " 'president\\tNN\\tN[nom]\\tpresident\\tO\\n',\n",
              " 'was\\tVBD\\tS[dcl]\\\\NP/PP\\tbe\\tO\\n',\n",
              " 'in\\tIN\\tPP/NP\\tin\\tO\\n',\n",
              " 'the\\tDT\\tNP/N[nom]\\tthe\\tO\\n',\n",
              " 'palace\\tNN\\tN[nom]\\tpalace\\tO\\n',\n",
              " 'in\\tIN\\tNP\\\\NP/NP\\tin\\tO\\n',\n",
              " 'Mogadishu\\tNNP\\tN[nam]\\tmogadishu\\tI-LOC\\n',\n",
              " 'when\\tWRB\\tNP\\\\NP/S[dcl]\\twhen\\tO\\n',\n",
              " 'the\\tDT\\tNP/N[nom]\\tthe\\tO\\n',\n",
              " 'attack\\tNN\\tN[nom]\\tattack\\tO\\n',\n",
              " 'occurred\\tVBD\\tS[dcl]\\\\NP\\toccur\\tO\\n',\n",
              " 'or\\tCC\\tCONJ\\tor\\tO\\n',\n",
              " 'if\\tIN\\tS[dcl]\\\\NP\\\\S[dcl]\\\\NP/S[dcl]\\tif\\tO\\n',\n",
              " 'anyone\\tDT\\tNP\\tanyone\\tO\\n',\n",
              " 'was\\tVBD\\tS[dcl]\\\\NP/S[pss]\\\\NP\\tbe\\tO\\n',\n",
              " 'hurt\\tVBN\\tS[pss]\\\\NP\\thurt\\tO\\n',\n",
              " '.\\t.\\tS[dcl]\\\\S[dcl]\\t.\\tO\\n',\n",
              " '\\n',\n",
              " 'Local\\tJJ\\tN[nom]/N[nom]\\tlocal\\tO\\n',\n",
              " 'news\\tNN\\tN[nom]/N[nom]\\tnews\\tO\\n',\n",
              " 'reports\\tNNS\\tN[nom]\\treport\\tO\\n',\n",
              " 'said\\tVBD\\tS[dcl]\\\\NP/S[dcl]\\tsay\\tO\\n',\n",
              " 'at\\tIN\\tS[dcl]/S[dcl]/S[asup]\\\\NP\\tat\\tO\\n',\n",
              " 'least\\tJJS\\tS[asup]\\\\NP\\tleast\\tO\\n',\n",
              " 'five\\tCD\\tN[nom]/N[nom]\\tfive\\tO\\n',\n",
              " 'mortar\\tNN\\tN[nom]/N[nom]\\tmortar\\tO\\n',\n",
              " 'shells\\tNNS\\tN[nom]\\tshell\\tO\\n',\n",
              " 'hit\\tVBD\\tS[dcl]\\\\NP/NP\\thit\\tO\\n',\n",
              " 'the\\tDT\\tNP/N[nom]\\tthe\\tO\\n',\n",
              " 'palace\\tNN\\tN[nom]/N[nom]\\tpalace\\tO\\n',\n",
              " 'compound\\tNN\\tN[nom]\\tcompound\\tO\\n',\n",
              " 'and\\tCC\\tCONJ\\tand\\tO\\n',\n",
              " 'other\\tJJ\\tN[nom]/N[nom]\\tother\\tO\\n',\n",
              " 'mortars\\tNNS\\tN[nom]\\tmortar\\tO\\n',\n",
              " 'were\\tVBD\\tS[dcl]\\\\NP/S[pss]\\\\NP\\tbe\\tO\\n',\n",
              " 'fired\\tVBN\\tS[pss]\\\\NP/S[adj]\\\\NP\\tfire\\tO\\n',\n",
              " 'elsewhere\\tRB\\tS[adj]\\\\NP\\telsewhere\\tO\\n',\n",
              " 'in\\tIN\\tS[pss]\\\\NP\\\\S[pss]\\\\NP/NP\\tin\\tO\\n',\n",
              " 'Mogadishu\\tNNP\\tN[nam]/N[nam]\\tmogadishu\\tI-LOC\\n',\n",
              " 'Wednesday\\tNNP\\tN[nam]\\twednesday\\tI-DAT\\n',\n",
              " '.\\t.\\tS[dcl]\\\\S[dcl]\\t.\\tO\\n',\n",
              " '\\n',\n",
              " 'The\\tDT\\tNP/N[nom]\\tthe\\tO\\n',\n",
              " 'attacks\\tNNS\\tN[nom]\\tattack\\tO\\n',\n",
              " 'occurred\\tVBD\\tS[dcl]\\\\NP\\toccur\\tO\\n',\n",
              " 'after\\tIN\\tS[dcl]\\\\NP\\\\S[dcl]\\\\NP/S[dcl]\\tafter\\tO\\n',\n",
              " 'the\\tDT\\tNP/N[nom]\\tthe\\tO\\n',\n",
              " 'government\\tNN\\tN[nom]\\tgovernment\\tO\\n',\n",
              " 'said\\tVBD\\tS[dcl]\\\\NP/S[dcl]\\tsay\\tO\\n',\n",
              " 'it\\tPRP\\tNP\\tit\\tO\\n',\n",
              " 'will\\tMD\\tS[dcl]\\\\NP/S[b]\\\\NP\\twill\\tO\\n',\n",
              " 'go\\tVB\\tS[b]\\\\NP/PP/S[adj]\\\\NP\\tgo\\tO\\n',\n",
              " 'ahead\\tRB\\tS[adj]\\\\NP\\tahead\\tO\\n',\n",
              " 'with\\tIN\\tPP/NP\\twith\\tO\\n',\n",
              " 'a\\tDT\\tNP/N[nom]\\ta\\tO\\n',\n",
              " 'reconciliation\\tNN\\tN[nom]/N[nom]\\treconciliation\\tO\\n',\n",
              " 'conference\\tNN\\tN[nom]\\tconference\\tO\\n',\n",
              " 'to\\tTO\\tNP\\\\NP/NP\\tto\\tO\\n',\n",
              " 'which\\tWDT\\tNP\\\\NP/S[dcl]\\\\NP\\\\NP/NP\\twhich\\tO\\n',\n",
              " 'more\\tJJR\\tS[adj]\\\\NP\\tmore\\tO\\n',\n",
              " 'than\\tIN\\tN[nom]/N[nom]/N[nom]/N[nom]\\\\S[adj]\\\\NP\\tthan\\tO\\n',\n",
              " '1,300\\tCD\\tN[nom]/N[nom]\\t1,300\\tO\\n',\n",
              " 'Somali\\tJJ\\tN[nom]/N[nom]\\tsomali\\tO\\n',\n",
              " 'elders\\tNNS\\tN[nom]\\telder\\tO\\n',\n",
              " ',\\t,\\tCOMMA\\t,\\tO\\n',\n",
              " 'warlords\\tNNS\\tN[nom]\\twarlord\\tO\\n',\n",
              " 'and\\tCC\\tCONJ\\tand\\tO\\n',\n",
              " 'politicians\\tNNS\\tN[nom]\\tpolitician\\tO\\n',\n",
              " 'are\\tVBP\\tS[dcl]\\\\NP/S[pss]\\\\NP\\tbe\\tO\\n',\n",
              " 'invited\\tVBN\\tS[pss]\\\\NP\\tinvite\\tO\\n',\n",
              " '.\\t.\\tS[dcl]\\\\S[dcl]\\t.\\tO\\n',\n",
              " '\\n',\n",
              " '\\n',\n",
              " '\\n']"
            ]
          },
          "metadata": {
            "tags": []
          },
          "execution_count": 12
        }
      ]
    },
    {
      "cell_type": "markdown",
      "metadata": {
        "id": "7lMAuTVlYiqZ",
        "colab_type": "text"
      },
      "source": [
        "<hr size=5 noshade>\n",
        "     \n",
        "      en.der.xml file description:\n",
        "\n",
        "       Contains derivations (parse trees) of the sentences. The formalism used is\n",
        "       Combinatory Categorial Grammar (CCG). The XML format is preliminary, we are\n",
        "       working on finalizing the format and releasing a DTD.\n",
        "\n",
        "      en.drs.xml file description:\n",
        "\n",
        "      Contains a Discourse Representation Structure (DRS) representing the meaning\n",
        "      of the text. The formalism used is Discourse Representation Theory (DRT),\n",
        "      extended to use neo-Davidsonian events with roles from VerbNet,\n",
        "      presuppositions and rhetorical relations.\n",
        "\n"
      ]
    },
    {
      "cell_type": "code",
      "metadata": {
        "id": "-MzJRs-KYeMl",
        "colab_type": "code",
        "colab": {}
      },
      "source": [
        ""
      ],
      "execution_count": 0,
      "outputs": []
    }
  ]
}