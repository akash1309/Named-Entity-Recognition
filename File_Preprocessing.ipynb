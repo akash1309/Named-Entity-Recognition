{
  "nbformat": 4,
  "nbformat_minor": 0,
  "metadata": {
    "colab": {
      "name": "File Preprocessing.ipynb",
      "provenance": [],
      "mount_file_id": "1RT9VoaPuUZhHtLKe2C0-5YaICYyNZfq7",
      "authorship_tag": "ABX9TyNcxp9BoLJcZeJ2eb1GTNoQ"
    },
    "kernelspec": {
      "name": "python3",
      "display_name": "Python 3"
    }
  },
  "cells": [
    {
      "cell_type": "markdown",
      "metadata": {
        "id": "0b1OlbllNENp",
        "colab_type": "text"
      },
      "source": [
        "# Dataset for NER tagging :  [Groningen Meaning Bank](https://gmb.let.rug.nl/data.php)"
      ]
    },
    {
      "cell_type": "markdown",
      "metadata": {
        "id": "kmkeV_BgN9bZ",
        "colab_type": "text"
      },
      "source": [
        "Unzipping the file"
      ]
    },
    {
      "cell_type": "code",
      "metadata": {
        "id": "MiDPy8HUM7IY",
        "colab_type": "code",
        "colab": {}
      },
      "source": [
        "# Uncomment below line for extraction\n",
        "\n",
        "# !unzip 'drive/My Drive/Pytorch_DataSet/Named Entity Recognition/gmb-1.0.0.zip' -d 'drive/My Drive/Pytorch_DataSet/Named Entity Recognition/'"
      ],
      "execution_count": 0,
      "outputs": []
    },
    {
      "cell_type": "code",
      "metadata": {
        "id": "zkYOavlQOH32",
        "colab_type": "code",
        "colab": {}
      },
      "source": [
        ""
      ],
      "execution_count": 0,
      "outputs": []
    }
  ]
}