{
  "nbformat": 4,
  "nbformat_minor": 0,
  "metadata": {
    "colab": {
      "name": "Basics Of Functions Used.ipynb",
      "provenance": [],
      "authorship_tag": "ABX9TyNtF6iiehQEIJORMblaJV0n"
    },
    "kernelspec": {
      "name": "python3",
      "display_name": "Python 3"
    },
    "accelerator": "GPU"
  },
  "cells": [
    {
      "cell_type": "markdown",
      "metadata": {
        "id": "fZRMRSiIrFjb",
        "colab_type": "text"
      },
      "source": [
        "# Basics of Functions Used\n",
        "\n",
        "Here, we will discuss about the various functions and logics used in the actual code of Bidirectional Lstm + CRF code."
      ]
    },
    {
      "cell_type": "code",
      "metadata": {
        "id": "Y5sq2Z29q2Me",
        "colab_type": "code",
        "colab": {
          "base_uri": "https://localhost:8080/",
          "height": 34
        },
        "outputId": "4456ee1b-f7c6-46f1-ebc3-2b65d1bde12b"
      },
      "source": [
        "import torch\n",
        "import torch.nn as nn\n",
        "import numpy as np\n",
        "import pandas as pd\n",
        "\n",
        "torch.manual_seed(1)"
      ],
      "execution_count": 1,
      "outputs": [
        {
          "output_type": "execute_result",
          "data": {
            "text/plain": [
              "<torch._C.Generator at 0x7efbd49c8530>"
            ]
          },
          "metadata": {
            "tags": []
          },
          "execution_count": 1
        }
      ]
    },
    {
      "cell_type": "markdown",
      "metadata": {
        "id": "pw8YI_FRsL7Y",
        "colab_type": "text"
      },
      "source": [
        "torch.max() function : It gives maximum value from a list of real numbers."
      ]
    },
    {
      "cell_type": "code",
      "metadata": {
        "id": "wT7mfeA6r5hR",
        "colab_type": "code",
        "colab": {
          "base_uri": "https://localhost:8080/",
          "height": 102
        },
        "outputId": "a5c06652-ac95-437c-c8bd-7e139e4ef6e5"
      },
      "source": [
        "a1 = [4,3,5,6,1,0,7]\n",
        "a1 = torch.LongTensor(a1)\n",
        "b1 = torch.max(a1)\n",
        "print(b1)\n",
        "\n",
        "a2 = torch.LongTensor([[4,3,5,6],\n",
        "                       [9,1,0,7]])\n",
        "b2 = torch.max(a2)\n",
        "print(b2)\n",
        "\n",
        "b3 = torch.max(a2,1)   # it is used for getting maximum values row wise and it returns values and their indices. \n",
        "print(b3)"
      ],
      "execution_count": 2,
      "outputs": [
        {
          "output_type": "stream",
          "text": [
            "tensor(7)\n",
            "tensor(9)\n",
            "torch.return_types.max(\n",
            "values=tensor([6, 9]),\n",
            "indices=tensor([3, 0]))\n"
          ],
          "name": "stdout"
        }
      ]
    },
    {
      "cell_type": "code",
      "metadata": {
        "id": "q7d-skhHxX4Q",
        "colab_type": "code",
        "colab": {
          "base_uri": "https://localhost:8080/",
          "height": 34
        },
        "outputId": "dd0761ca-7021-4236-e435-89a1dbddaebc"
      },
      "source": [
        "a3 = torch.FloatTensor([[1,3,4,2]])\n",
        "_,idx = torch.max(a3,1)\n",
        "print(idx)"
      ],
      "execution_count": 3,
      "outputs": [
        {
          "output_type": "stream",
          "text": [
            "tensor([2])\n"
          ],
          "name": "stdout"
        }
      ]
    },
    {
      "cell_type": "code",
      "metadata": {
        "id": "de46FeewsZuM",
        "colab_type": "code",
        "colab": {
          "base_uri": "https://localhost:8080/",
          "height": 68
        },
        "outputId": "ad9a6b42-f704-46ae-9eec-50397c0656d4"
      },
      "source": [
        "def argmax(vec):\n",
        "  # return the argmax as a python int\n",
        "  _, idx = torch.max(vec, 1)\n",
        "  return idx.item()             # this will return index 2 for a3 vector\n",
        "\n",
        "def log_sum_exp(vec):\n",
        "  max_score = vec[0, argmax(vec)]  # this signifies 0th row and max index returned by argmax(vec) function\n",
        "  print(f'max_score : {max_score} Type: {type(max_score)}')\n",
        "  max_score_broadcast = max_score.view(1, -1).expand(1, vec.size()[1])\n",
        "  print(f'max_score_broadcast : {max_score_broadcast}')\n",
        "  return max_score + torch.log(torch.sum(torch.exp(vec - max_score_broadcast)))\n",
        "\n",
        "print(log_sum_exp(a3))"
      ],
      "execution_count": 4,
      "outputs": [
        {
          "output_type": "stream",
          "text": [
            "max_score : 4.0 Type: <class 'torch.Tensor'>\n",
            "max_score_broadcast : tensor([[4., 4., 4., 4.]])\n",
            "tensor(4.4402)\n"
          ],
          "name": "stdout"
        }
      ]
    },
    {
      "cell_type": "markdown",
      "metadata": {
        "id": "6t5BdNz3y-4T",
        "colab_type": "text"
      },
      "source": [
        "Lets see log_sum_exp() in detail:\n",
        "- max_score will be retuning the max number from vector vec\n",
        "- Now, let's see about the other part"
      ]
    },
    {
      "cell_type": "code",
      "metadata": {
        "id": "aHE3j7ILwmqY",
        "colab_type": "code",
        "colab": {
          "base_uri": "https://localhost:8080/",
          "height": 34
        },
        "outputId": "65287be3-8607-4730-9f7a-f414cf64c8fc"
      },
      "source": [
        "max_score = torch.FloatTensor([4])\n",
        "print(type(max_score))"
      ],
      "execution_count": 5,
      "outputs": [
        {
          "output_type": "stream",
          "text": [
            "<class 'torch.Tensor'>\n"
          ],
          "name": "stdout"
        }
      ]
    },
    {
      "cell_type": "code",
      "metadata": {
        "id": "0HMiNQz8zi_a",
        "colab_type": "code",
        "colab": {
          "base_uri": "https://localhost:8080/",
          "height": 34
        },
        "outputId": "c7c949bb-cb7b-46fe-9ded-483718fce940"
      },
      "source": [
        "print(max_score.view(1, -1))"
      ],
      "execution_count": 6,
      "outputs": [
        {
          "output_type": "stream",
          "text": [
            "tensor([[4.]])\n"
          ],
          "name": "stdout"
        }
      ]
    },
    {
      "cell_type": "code",
      "metadata": {
        "id": "c4cVZn0h0VkN",
        "colab_type": "code",
        "colab": {
          "base_uri": "https://localhost:8080/",
          "height": 34
        },
        "outputId": "1a0034d3-7084-4791-eec3-7965d6071db1"
      },
      "source": [
        "max_score_broadcast = max_score.view(1, -1).expand(1, 4)\n",
        "print(max_score_broadcast)"
      ],
      "execution_count": 7,
      "outputs": [
        {
          "output_type": "stream",
          "text": [
            "tensor([[4., 4., 4., 4.]])\n"
          ],
          "name": "stdout"
        }
      ]
    },
    {
      "cell_type": "code",
      "metadata": {
        "id": "zPdfazpt6z2W",
        "colab_type": "code",
        "colab": {
          "base_uri": "https://localhost:8080/",
          "height": 34
        },
        "outputId": "b022ddb1-573f-4354-9a3b-1fb373d8c193"
      },
      "source": [
        "np.exp(-3)"
      ],
      "execution_count": 8,
      "outputs": [
        {
          "output_type": "execute_result",
          "data": {
            "text/plain": [
              "0.049787068367863944"
            ]
          },
          "metadata": {
            "tags": []
          },
          "execution_count": 8
        }
      ]
    },
    {
      "cell_type": "code",
      "metadata": {
        "id": "b_qJ7s5w2arh",
        "colab_type": "code",
        "colab": {}
      },
      "source": [
        "a3 = torch.FloatTensor([[1,3,4,2]])"
      ],
      "execution_count": 0,
      "outputs": []
    },
    {
      "cell_type": "code",
      "metadata": {
        "id": "lfzhv6bD0d5Y",
        "colab_type": "code",
        "colab": {
          "base_uri": "https://localhost:8080/",
          "height": 68
        },
        "outputId": "4f8fa9a3-6ef8-431b-c61b-b15b0aec5974"
      },
      "source": [
        "print(torch.exp(a3 - max_score_broadcast))\n",
        "print(torch.sum(torch.exp(a3 - max_score_broadcast)))\n",
        "print(torch.log(torch.sum(torch.exp(a3 - max_score_broadcast))))"
      ],
      "execution_count": 10,
      "outputs": [
        {
          "output_type": "stream",
          "text": [
            "tensor([[0.0498, 0.3679, 1.0000, 0.1353]])\n",
            "tensor(1.5530)\n",
            "tensor(0.4402)\n"
          ],
          "name": "stdout"
        }
      ]
    },
    {
      "cell_type": "markdown",
      "metadata": {
        "id": "bnbCVg-PBiw8",
        "colab_type": "text"
      },
      "source": [
        "torch.full() : This function makes a 2-dimensional matrix(as given in example) fills the value given by user."
      ]
    },
    {
      "cell_type": "code",
      "metadata": {
        "id": "IFAMSLpN2QOc",
        "colab_type": "code",
        "colab": {
          "base_uri": "https://localhost:8080/",
          "height": 71
        },
        "outputId": "f829ea1b-c253-47a7-8265-75e8321648e5"
      },
      "source": [
        "a4 = torch.full((1,4),-2)\n",
        "print(a4)"
      ],
      "execution_count": 11,
      "outputs": [
        {
          "output_type": "stream",
          "text": [
            "tensor([[-2., -2., -2., -2.]])\n"
          ],
          "name": "stdout"
        },
        {
          "output_type": "stream",
          "text": [
            "/pytorch/aten/src/ATen/native/TensorFactories.cpp:361: UserWarning: Deprecation warning: In a future PyTorch release torch.full will no longer return tensors of floating dtype by default. Instead, a bool fill_value will return a tensor of torch.bool dtype, and an integral fill_value will return a tensor of torch.long dtype. Set the optional `dtype` or `out` arguments to suppress this warning.\n"
          ],
          "name": "stderr"
        }
      ]
    },
    {
      "cell_type": "markdown",
      "metadata": {
        "id": "SkWq0SRhSlec",
        "colab_type": "text"
      },
      "source": [
        "torch.cat(): It concatenates vectors based on axis given. By default, it concatenates row wise."
      ]
    },
    {
      "cell_type": "code",
      "metadata": {
        "id": "IAcnKIeQBpii",
        "colab_type": "code",
        "colab": {
          "base_uri": "https://localhost:8080/",
          "height": 119
        },
        "outputId": "8dd08212-a016-4f04-f740-6b34b42585a0"
      },
      "source": [
        "x = torch.randn(2, 3)\n",
        "print(x)\n",
        "\n",
        "y1 = torch.cat((x, x), 0)\n",
        "print(y1)"
      ],
      "execution_count": 13,
      "outputs": [
        {
          "output_type": "stream",
          "text": [
            "tensor([[-1.5228,  0.3817, -1.0276],\n",
            "        [-0.5631, -0.8923, -0.0583]])\n",
            "tensor([[-1.5228,  0.3817, -1.0276],\n",
            "        [-0.5631, -0.8923, -0.0583],\n",
            "        [-1.5228,  0.3817, -1.0276],\n",
            "        [-0.5631, -0.8923, -0.0583]])\n"
          ],
          "name": "stdout"
        }
      ]
    },
    {
      "cell_type": "code",
      "metadata": {
        "id": "iXybqneRTYRt",
        "colab_type": "code",
        "colab": {
          "base_uri": "https://localhost:8080/",
          "height": 51
        },
        "outputId": "bf741648-6843-4fd9-dd6c-33d86ce2a70b"
      },
      "source": [
        "y2 = torch.cat((x, x), 1)\n",
        "print(y2)"
      ],
      "execution_count": 14,
      "outputs": [
        {
          "output_type": "stream",
          "text": [
            "tensor([[-1.5228,  0.3817, -1.0276, -1.5228,  0.3817, -1.0276],\n",
            "        [-0.5631, -0.8923, -0.0583, -0.5631, -0.8923, -0.0583]])\n"
          ],
          "name": "stdout"
        }
      ]
    },
    {
      "cell_type": "code",
      "metadata": {
        "id": "y6Ak72lgTn0i",
        "colab_type": "code",
        "colab": {
          "base_uri": "https://localhost:8080/",
          "height": 85
        },
        "outputId": "f9805105-a13d-4055-93ae-f0fffec2373e"
      },
      "source": [
        "y3 = torch.cat((x, x))\n",
        "print(y3)"
      ],
      "execution_count": 16,
      "outputs": [
        {
          "output_type": "stream",
          "text": [
            "tensor([[-1.5228,  0.3817, -1.0276],\n",
            "        [-0.5631, -0.8923, -0.0583],\n",
            "        [-1.5228,  0.3817, -1.0276],\n",
            "        [-0.5631, -0.8923, -0.0583]])\n"
          ],
          "name": "stdout"
        }
      ]
    },
    {
      "cell_type": "markdown",
      "metadata": {
        "id": "5mnE1P9dX-s3",
        "colab_type": "text"
      },
      "source": [
        "torch.zeros(n) : Creates a dimensional matrix of n size"
      ]
    },
    {
      "cell_type": "code",
      "metadata": {
        "id": "r7UaMBJ3UaN6",
        "colab_type": "code",
        "colab": {
          "base_uri": "https://localhost:8080/",
          "height": 34
        },
        "outputId": "f32bd4ad-e508-49f9-c7f8-ecce51ebbd09"
      },
      "source": [
        "a5 = torch.zeros(2)\n",
        "print(a5)"
      ],
      "execution_count": 17,
      "outputs": [
        {
          "output_type": "stream",
          "text": [
            "tensor([0., 0.])\n"
          ],
          "name": "stdout"
        }
      ]
    },
    {
      "cell_type": "code",
      "metadata": {
        "id": "sooox5fNYF53",
        "colab_type": "code",
        "colab": {}
      },
      "source": [
        ""
      ],
      "execution_count": 0,
      "outputs": []
    }
  ]
}