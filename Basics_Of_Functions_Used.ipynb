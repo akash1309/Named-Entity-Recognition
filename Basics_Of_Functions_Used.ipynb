{
  "nbformat": 4,
  "nbformat_minor": 0,
  "metadata": {
    "colab": {
      "name": "Basics Of Functions Used.ipynb",
      "provenance": [],
      "authorship_tag": "ABX9TyNMz+fXHRYEeb+pxDAylncO"
    },
    "kernelspec": {
      "name": "python3",
      "display_name": "Python 3"
    }
  },
  "cells": [
    {
      "cell_type": "markdown",
      "metadata": {
        "id": "fZRMRSiIrFjb",
        "colab_type": "text"
      },
      "source": [
        "# Basics of Functions Used\n",
        "\n",
        "Here, we will discuss about the various functions and logics used in the actual code of Bidirectional Lstm + CRF code."
      ]
    },
    {
      "cell_type": "code",
      "metadata": {
        "id": "Y5sq2Z29q2Me",
        "colab_type": "code",
        "colab": {
          "base_uri": "https://localhost:8080/",
          "height": 34
        },
        "outputId": "176cd372-1145-4a07-864a-3acf363a3dab"
      },
      "source": [
        "import torch\n",
        "import torch.nn as nn\n",
        "import numpy as np\n",
        "import pandas as pd\n",
        "\n",
        "torch.manual_seed(1)"
      ],
      "execution_count": 1,
      "outputs": [
        {
          "output_type": "execute_result",
          "data": {
            "text/plain": [
              "<torch._C.Generator at 0x7fad0e100130>"
            ]
          },
          "metadata": {
            "tags": []
          },
          "execution_count": 1
        }
      ]
    },
    {
      "cell_type": "markdown",
      "metadata": {
        "id": "pw8YI_FRsL7Y",
        "colab_type": "text"
      },
      "source": [
        "torch.max() function : It gives maximum value from a list of real numbers."
      ]
    },
    {
      "cell_type": "code",
      "metadata": {
        "id": "wT7mfeA6r5hR",
        "colab_type": "code",
        "colab": {
          "base_uri": "https://localhost:8080/",
          "height": 102
        },
        "outputId": "5b717b17-2232-4ca5-faf6-0c121de34ced"
      },
      "source": [
        "a1 = [4,3,5,6,1,0,7]\n",
        "a1 = torch.LongTensor(a1)\n",
        "b1 = torch.max(a1)\n",
        "print(b1)\n",
        "\n",
        "a2 = torch.LongTensor([[4,3,5,6],\n",
        "                       [9,1,0,7]])\n",
        "b2 = torch.max(a2)\n",
        "print(b2)\n",
        "\n",
        "b3 = torch.max(a2,1)   # it is used for getting maximum values row wise and it returns values and their indices. \n",
        "print(b3)"
      ],
      "execution_count": 8,
      "outputs": [
        {
          "output_type": "stream",
          "text": [
            "tensor(7)\n",
            "tensor(9)\n",
            "torch.return_types.max(\n",
            "values=tensor([6, 9]),\n",
            "indices=tensor([3, 0]))\n"
          ],
          "name": "stdout"
        }
      ]
    },
    {
      "cell_type": "code",
      "metadata": {
        "id": "q7d-skhHxX4Q",
        "colab_type": "code",
        "colab": {
          "base_uri": "https://localhost:8080/",
          "height": 34
        },
        "outputId": "443206b3-e07b-4e02-98d1-af7d4220d7bb"
      },
      "source": [
        "a3 = torch.FloatTensor([[1,3,4,2]])\n",
        "_,idx = torch.max(a3,1)\n",
        "print(idx)"
      ],
      "execution_count": 14,
      "outputs": [
        {
          "output_type": "stream",
          "text": [
            "tensor([2])\n"
          ],
          "name": "stdout"
        }
      ]
    },
    {
      "cell_type": "code",
      "metadata": {
        "id": "de46FeewsZuM",
        "colab_type": "code",
        "colab": {
          "base_uri": "https://localhost:8080/",
          "height": 68
        },
        "outputId": "d2489cf3-5269-4c17-8eda-cdfc90589b49"
      },
      "source": [
        "def argmax(vec):\n",
        "  # return the argmax as a python int\n",
        "  _, idx = torch.max(vec, 1)\n",
        "  return idx.item()             # this will return index 2 for a3 vector\n",
        "\n",
        "def log_sum_exp(vec):\n",
        "  max_score = vec[0, argmax(vec)]  # this signifies 0th row and max index returned by argmax(vec) function\n",
        "  print(f'max_score : {max_score} Type: {type(max_score)}')\n",
        "  max_score_broadcast = max_score.view(1, -1).expand(1, vec.size()[1])\n",
        "  print(f'max_score_broadcast : {max_score_broadcast}')\n",
        "  return max_score + torch.log(torch.sum(torch.exp(vec - max_score_broadcast)))\n",
        "\n",
        "print(log_sum_exp(a3))"
      ],
      "execution_count": 19,
      "outputs": [
        {
          "output_type": "stream",
          "text": [
            "max_score : 4.0 Type: <class 'torch.Tensor'>\n",
            "max_score_broadcast : tensor([[4., 4., 4., 4.]])\n",
            "tensor(4.4402)\n"
          ],
          "name": "stdout"
        }
      ]
    },
    {
      "cell_type": "markdown",
      "metadata": {
        "id": "6t5BdNz3y-4T",
        "colab_type": "text"
      },
      "source": [
        "Lets see log_sum_exp() in detail:\n",
        "- max_score will be retuning the max number from vector vec\n",
        "- Now, let's see about the other part"
      ]
    },
    {
      "cell_type": "code",
      "metadata": {
        "id": "aHE3j7ILwmqY",
        "colab_type": "code",
        "colab": {
          "base_uri": "https://localhost:8080/",
          "height": 34
        },
        "outputId": "23e86b6e-8281-4c3d-b9e9-ca3f0654c70f"
      },
      "source": [
        "max_score = torch.FloatTensor([4])\n",
        "print(type(max_score))"
      ],
      "execution_count": 23,
      "outputs": [
        {
          "output_type": "stream",
          "text": [
            "<class 'torch.Tensor'>\n"
          ],
          "name": "stdout"
        }
      ]
    },
    {
      "cell_type": "code",
      "metadata": {
        "id": "0HMiNQz8zi_a",
        "colab_type": "code",
        "colab": {
          "base_uri": "https://localhost:8080/",
          "height": 34
        },
        "outputId": "2219ec02-8ce5-410e-ce27-6a3cc689990d"
      },
      "source": [
        "print(max_score.view(1, -1))"
      ],
      "execution_count": 24,
      "outputs": [
        {
          "output_type": "stream",
          "text": [
            "tensor([[4.]])\n"
          ],
          "name": "stdout"
        }
      ]
    },
    {
      "cell_type": "code",
      "metadata": {
        "id": "c4cVZn0h0VkN",
        "colab_type": "code",
        "colab": {
          "base_uri": "https://localhost:8080/",
          "height": 34
        },
        "outputId": "926a1dcf-8b4f-42ee-d92f-861c558645b5"
      },
      "source": [
        "max_score_broadcast = max_score.view(1, -1).expand(1, 4)\n",
        "print(max_score_broadcast)"
      ],
      "execution_count": 26,
      "outputs": [
        {
          "output_type": "stream",
          "text": [
            "tensor([[4., 4., 4., 4.]])\n"
          ],
          "name": "stdout"
        }
      ]
    },
    {
      "cell_type": "code",
      "metadata": {
        "id": "zPdfazpt6z2W",
        "colab_type": "code",
        "colab": {
          "base_uri": "https://localhost:8080/",
          "height": 34
        },
        "outputId": "739df696-125b-4051-d67a-9ce3e85c6d38"
      },
      "source": [
        "np.exp(-3)"
      ],
      "execution_count": 30,
      "outputs": [
        {
          "output_type": "execute_result",
          "data": {
            "text/plain": [
              "0.049787068367863944"
            ]
          },
          "metadata": {
            "tags": []
          },
          "execution_count": 30
        }
      ]
    },
    {
      "cell_type": "code",
      "metadata": {
        "id": "b_qJ7s5w2arh",
        "colab_type": "code",
        "colab": {}
      },
      "source": [
        "a3 = torch.FloatTensor([[1,3,4,2]])"
      ],
      "execution_count": 0,
      "outputs": []
    },
    {
      "cell_type": "code",
      "metadata": {
        "id": "lfzhv6bD0d5Y",
        "colab_type": "code",
        "colab": {
          "base_uri": "https://localhost:8080/",
          "height": 68
        },
        "outputId": "9b7cbdde-a215-41cc-bd98-5964c303f4c9"
      },
      "source": [
        "print(torch.exp(a3 - max_score_broadcast))\n",
        "print(torch.sum(torch.exp(a3 - max_score_broadcast)))\n",
        "print(torch.log(torch.sum(torch.exp(a3 - max_score_broadcast))))"
      ],
      "execution_count": 27,
      "outputs": [
        {
          "output_type": "stream",
          "text": [
            "tensor([[0.0498, 0.3679, 1.0000, 0.1353]])\n",
            "tensor(1.5530)\n",
            "tensor(0.4402)\n"
          ],
          "name": "stdout"
        }
      ]
    },
    {
      "cell_type": "code",
      "metadata": {
        "id": "IFAMSLpN2QOc",
        "colab_type": "code",
        "colab": {}
      },
      "source": [
        ""
      ],
      "execution_count": 0,
      "outputs": []
    }
  ]
}