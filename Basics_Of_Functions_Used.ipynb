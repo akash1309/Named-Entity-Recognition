{
  "nbformat": 4,
  "nbformat_minor": 0,
  "metadata": {
    "colab": {
      "name": "Basics Of Functions Used.ipynb",
      "provenance": [],
      "authorship_tag": "ABX9TyMT3bjVrXbTFzIqtbu36+Ea"
    },
    "kernelspec": {
      "name": "python3",
      "display_name": "Python 3"
    }
  },
  "cells": [
    {
      "cell_type": "markdown",
      "metadata": {
        "id": "fZRMRSiIrFjb",
        "colab_type": "text"
      },
      "source": [
        "# Basics of Functions Used\n",
        "\n",
        "Here, we will discuss about the various functions and logics used in the actual code of Bidirectional Lstm + CRF code."
      ]
    },
    {
      "cell_type": "code",
      "metadata": {
        "id": "Y5sq2Z29q2Me",
        "colab_type": "code",
        "colab": {}
      },
      "source": [
        ""
      ],
      "execution_count": 0,
      "outputs": []
    }
  ]
}